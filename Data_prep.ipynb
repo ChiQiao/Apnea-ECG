{
 "cells": [
  {
   "cell_type": "markdown",
   "metadata": {},
   "source": [
    "# Overview\n",
    "    Convert training and testing data (.dat, .apn, etc.) to .pkl files\n",
    "    Folder 'raw': Raw data (paired ecg, apn, ect.)\n",
    "    Folder 'processed': With problematic minutes (AT THE BEGINNING OF DATA) deleted "
   ]
  },
  {
   "cell_type": "code",
   "execution_count": 1,
   "metadata": {},
   "outputs": [],
   "source": [
    "import numpy as np\n",
    "import load\n",
    "import pickle\n",
    "import matplotlib.pyplot as plt\n",
    "import importlib"
   ]
  },
  {
   "cell_type": "markdown",
   "metadata": {},
   "source": [
    "# 1. Pre-process training data"
   ]
  },
  {
   "cell_type": "code",
   "execution_count": 12,
   "metadata": {},
   "outputs": [],
   "source": [
    "train_full = [f'a{i:02d}' for i in range(\n",
    "    1, 21)] + [f'b{i:02d}' for i in range(1, 6)] + [f'c{i:02d}' for i in range(1, 11)]\n",
    "train_test = ['a01']\n",
    "data_folder = 'data/training/'\n",
    "ratio_lb, ratio_ub = 0.6, 2\n",
    "diagPlot = 0"
   ]
  },
  {
   "cell_type": "markdown",
   "metadata": {},
   "source": [
    "## 1.1 Raw "
   ]
  },
  {
   "cell_type": "code",
   "execution_count": 8,
   "metadata": {},
   "outputs": [],
   "source": [
    "output_folder = 'data/raw/'\n",
    "for file in train_full:\n",
    "    apn, _, t_apn = load.get_apn_train(data_folder + file)\n",
    "    [apn, ecg, r_peaks, atfs] = load.single_file_res(data_folder, file, apn, t_apn[-1])\n",
    "    \n",
    "    # Save result\n",
    "    res = {'ecg': ecg, 'apn': apn, 'r_peaks': r_peaks, 'atfs': atfs}\n",
    "    with open(output_folder + file + '.pkl', 'wb') as f:\n",
    "        pickle.dump(res, f)"
   ]
  },
  {
   "cell_type": "markdown",
   "metadata": {},
   "source": [
    "## 1.2 Processed"
   ]
  },
  {
   "cell_type": "code",
   "execution_count": 14,
   "metadata": {},
   "outputs": [
    {
     "name": "stdout",
     "output_type": "stream",
     "text": [
      "a01: 0 minutes discarded\n",
      "a02: 0 minutes discarded\n",
      "a03: 0 minutes discarded\n",
      "a04: 0 minutes discarded\n",
      "a05: 0 minutes discarded\n",
      "a06: 0 minutes discarded\n",
      "a07: 0 minutes discarded\n",
      "a08: 0 minutes discarded\n",
      "a09: 0 minutes discarded\n",
      "a10: 0 minutes discarded\n",
      "a11: 0 minutes discarded\n",
      "a12: 0 minutes discarded\n",
      "a13: 0 minutes discarded\n",
      "a14: 0 minutes discarded\n",
      "a15: 1 minutes discarded\n",
      "a16: 0 minutes discarded\n",
      "a17: 0 minutes discarded\n",
      "a18: 0 minutes discarded\n",
      "a19: 0 minutes discarded\n",
      "a20: 0 minutes discarded\n",
      "b01: 0 minutes discarded\n",
      "b02: 0 minutes discarded\n",
      "b03: 0 minutes discarded\n",
      "b04: 9 minutes discarded\n",
      "b05: 0 minutes discarded\n",
      "c01: 10 minutes discarded\n",
      "c02: 10 minutes discarded\n",
      "c03: 0 minutes discarded\n",
      "c04: 20 minutes discarded\n",
      "c05: 0 minutes discarded\n",
      "c06: 1 minutes discarded\n",
      "c07: 0 minutes discarded\n",
      "c08: 0 minutes discarded\n",
      "c09: 13 minutes discarded\n",
      "c10: 11 minutes discarded\n"
     ]
    }
   ],
   "source": [
    "output_folder = 'data/processed/'\n",
    "for file in train_full:\n",
    "    apn, _, t_apn = load.get_apn_train(data_folder + file)\n",
    "    [apn, ecg, r_peaks, atfs] = load.single_file_res(data_folder, file, apn, t_apn[-1])\n",
    "    \n",
    "    # Delete segments with abnormal s.d.\n",
    "    idx_valid = load.clean_data(ecg, ratio_lb, ratio_ub, diagPlot)\n",
    "    if diagPlot:\n",
    "        plt.title(file)\n",
    "        plt.show()\n",
    "    \n",
    "    s_idx = np.where(idx_valid)[0][0]\n",
    "    ecg = ecg[s_idx : , :]\n",
    "    apn = apn[s_idx : ]\n",
    "    r_peaks = r_peaks[s_idx : , :]\n",
    "    atfs = atfs[s_idx : , :]\n",
    "    \n",
    "    # Save result\n",
    "    res = {'ecg': ecg, 'apn': apn, 'r_peaks': r_peaks, 'atfs': atfs}\n",
    "    with open(output_folder + file + '.pkl', 'wb') as f:\n",
    "        pickle.dump(res, f)\n",
    "        \n",
    "    if not diagPlot:\n",
    "        print(f'{file}: {s_idx} minutes discarded')\n"
   ]
  },
  {
   "cell_type": "code",
   "execution_count": 18,
   "metadata": {},
   "outputs": [],
   "source": [
    "# TBC: Figure of problematic signals"
   ]
  },
  {
   "cell_type": "markdown",
   "metadata": {},
   "source": [
    "# 2. Pre-process testing data"
   ]
  },
  {
   "cell_type": "code",
   "execution_count": 15,
   "metadata": {},
   "outputs": [],
   "source": [
    "test_full = [f'x{i:02d}' for i in range(1, 36)] \n",
    "test_test = ['x01']\n",
    "data_folder = 'data/testing/'\n",
    "ratio_lb, ratio_ub = 0.6, 2\n",
    "diagPlot = 0"
   ]
  },
  {
   "cell_type": "markdown",
   "metadata": {},
   "source": [
    "## 2.1 Process event-2-answers"
   ]
  },
  {
   "cell_type": "code",
   "execution_count": 58,
   "metadata": {},
   "outputs": [],
   "source": [
    "import re\n",
    "import itertools\n",
    "\n",
    "with open(data_folder + 'event-2-answers') as f:\n",
    "    lines = f.read()\n",
    "\n",
    "lines = lines.split(sep='\\n\\n')\n",
    "lines = lines[:-1] # Delete the last empty item\n",
    "lines = [line[3: ] for line in lines] # Delete leading filename\n",
    "apns = [list(itertools.chain(*re.findall(r'[AN]+', line))) for line in lines]\n",
    "d_apn = {'N': 0, 'A': 1}\n",
    "apns = [np.array([d_apn[str] for str in apn]).astype(bool) for apn in apns]\n",
    "\n",
    "with open(data_folder + 'event-2-answers.pkl', 'wb') as f:\n",
    "    pickle.dump(apns, f)"
   ]
  },
  {
   "cell_type": "markdown",
   "metadata": {},
   "source": [
    "## 2.2 Raw"
   ]
  },
  {
   "cell_type": "code",
   "execution_count": 10,
   "metadata": {},
   "outputs": [],
   "source": [
    "output_folder = 'data/raw/'\n",
    "with open(data_folder + 'event-2-answers.pkl', 'rb') as f:\n",
    "    apns = pickle.load(f)\n",
    "    \n",
    "for file, apn in zip(test_full, apns):\n",
    "    t_end = 60 * (len(apn) - 1)\n",
    "    [apn, ecg, r_peaks, atfs] = load.single_file_res(data_folder, file, apn, t_end)\n",
    "    \n",
    "    # Save result\n",
    "    res = {'ecg': ecg, 'apn': apn, 'r_peaks': r_peaks, 'atfs': atfs}\n",
    "    with open(output_folder + file + '.pkl', 'wb') as f:\n",
    "        pickle.dump(res, f)"
   ]
  },
  {
   "cell_type": "markdown",
   "metadata": {},
   "source": [
    "## 2.3 Processed "
   ]
  },
  {
   "cell_type": "code",
   "execution_count": 16,
   "metadata": {},
   "outputs": [
    {
     "name": "stdout",
     "output_type": "stream",
     "text": [
      "x01: 10 minutes discarded\n",
      "x02: 0 minutes discarded\n",
      "x03: 1 minutes discarded\n",
      "x04: 9 minutes discarded\n",
      "x05: 0 minutes discarded\n",
      "x06: 5 minutes discarded\n",
      "x07: 2 minutes discarded\n",
      "x08: 0 minutes discarded\n",
      "x09: 0 minutes discarded\n",
      "x10: 0 minutes discarded\n",
      "x11: 0 minutes discarded\n",
      "x12: 0 minutes discarded\n",
      "x13: 0 minutes discarded\n",
      "x14: 0 minutes discarded\n",
      "x15: 0 minutes discarded\n",
      "x16: 0 minutes discarded\n",
      "x17: 0 minutes discarded\n",
      "x18: 15 minutes discarded\n",
      "x19: 0 minutes discarded\n",
      "x20: 1 minutes discarded\n",
      "x21: 0 minutes discarded\n",
      "x22: 11 minutes discarded\n",
      "x23: 0 minutes discarded\n",
      "x24: 14 minutes discarded\n",
      "x25: 0 minutes discarded\n",
      "x26: 1 minutes discarded\n",
      "x27: 0 minutes discarded\n",
      "x28: 10 minutes discarded\n",
      "x29: 18 minutes discarded\n",
      "x30: 0 minutes discarded\n",
      "x31: 0 minutes discarded\n",
      "x32: 0 minutes discarded\n",
      "x33: 0 minutes discarded\n",
      "x34: 0 minutes discarded\n",
      "x35: 11 minutes discarded\n"
     ]
    }
   ],
   "source": [
    "output_folder = 'data/processed/'\n",
    "with open(data_folder + 'event-2-answers.pkl', 'rb') as f:\n",
    "    apns = pickle.load(f)\n",
    "    \n",
    "for file, apn in zip(test_full, apns):\n",
    "    t_end = 60 * (len(apn) - 1)\n",
    "    [apn, ecg, r_peaks, atfs] = load.single_file_res(data_folder, file, apn, t_end)\n",
    "    \n",
    "    # Delete segments with abnormal s.d.\n",
    "    idx_valid = load.clean_data(ecg, ratio_lb, ratio_ub, diagPlot)\n",
    "    if diagPlot:\n",
    "        plt.title(file)\n",
    "        plt.show()\n",
    "    \n",
    "    s_idx = np.where(idx_valid)[0][0]\n",
    "    ecg = ecg[s_idx : , :]\n",
    "    apn = apn[s_idx : ]\n",
    "    r_peaks = r_peaks[s_idx : , :]\n",
    "    atfs = atfs[s_idx : , :]\n",
    "    \n",
    "    # Save result\n",
    "    res = {'ecg': ecg, 'apn': apn, 'r_peaks': r_peaks, 'atfs': atfs}\n",
    "    with open(output_folder + file + '.pkl', 'wb') as f:\n",
    "        pickle.dump(res, f)\n",
    "        \n",
    "    if not diagPlot:\n",
    "        print(f'{file}: {s_idx} minutes discarded')"
   ]
  }
 ],
 "metadata": {
  "kernelspec": {
   "display_name": "Python 3",
   "language": "python",
   "name": "python3"
  },
  "language_info": {
   "codemirror_mode": {
    "name": "ipython",
    "version": 3
   },
   "file_extension": ".py",
   "mimetype": "text/x-python",
   "name": "python",
   "nbconvert_exporter": "python",
   "pygments_lexer": "ipython3",
   "version": "3.7.4"
  },
  "toc": {
   "base_numbering": 1,
   "nav_menu": {},
   "number_sections": false,
   "sideBar": true,
   "skip_h1_title": false,
   "title_cell": "Table of Contents",
   "title_sidebar": "Contents",
   "toc_cell": false,
   "toc_position": {},
   "toc_section_display": true,
   "toc_window_display": false
  },
  "varInspector": {
   "cols": {
    "lenName": 16,
    "lenType": 16,
    "lenVar": 40
   },
   "kernels_config": {
    "python": {
     "delete_cmd_postfix": "",
     "delete_cmd_prefix": "del ",
     "library": "var_list.py",
     "varRefreshCmd": "print(var_dic_list())"
    },
    "r": {
     "delete_cmd_postfix": ") ",
     "delete_cmd_prefix": "rm(",
     "library": "var_list.r",
     "varRefreshCmd": "cat(var_dic_list()) "
    }
   },
   "types_to_exclude": [
    "module",
    "function",
    "builtin_function_or_method",
    "instance",
    "_Feature"
   ],
   "window_display": false
  }
 },
 "nbformat": 4,
 "nbformat_minor": 2
}
