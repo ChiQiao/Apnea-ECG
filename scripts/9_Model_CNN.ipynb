{
 "cells": [
  {
   "cell_type": "code",
   "execution_count": null,
   "metadata": {},
   "outputs": [],
   "source": [
    "import math, json, os, sys\n",
    "\n",
    "import keras\n",
    "from keras.callbacks import EarlyStopping, ModelCheckpoint\n",
    "from keras.layers import Dense\n",
    "from keras.models import Model\n",
    "from keras.optimizers import Adam\n",
    "from keras.preprocessing import image\n",
    "\n",
    "\n",
    "DATA_DIR = 'fine_tune_data'\n",
    "TRAIN_DIR = os.path.join(DATA_DIR, 'train')\n",
    "VALID_DIR = os.path.join(DATA_DIR, 'validation')\n",
    "SIZE = (224, 224)\n",
    "BATCH_SIZE = 32\n",
    "\n",
    "\n",
    "num_train_samples = sum([len(files) for r, d, files in os.walk(TRAIN_DIR)])\n",
    "num_valid_samples = sum([len(files) for r, d, files in os.walk(VALID_DIR)])\n",
    "\n",
    "num_train_steps = math.floor(num_train_samples/BATCH_SIZE)\n",
    "num_valid_steps = math.floor(num_valid_samples/BATCH_SIZE)\n",
    "\n",
    "gen = keras.preprocessing.image.ImageDataGenerator(horizontal_flip=True, vertical_flip=True, rotation_range=40, zoom_range=0.2, width_shift_range=0.2, height_shift_range=0.2)\n",
    "val_gen = keras.preprocessing.image.ImageDataGenerator(horizontal_flip=True, vertical_flip=True, rotation_range=40, zoom_range=0.2, width_shift_range=0.2, height_shift_range=0.2)\n",
    "\n",
    "batches = gen.flow_from_directory(TRAIN_DIR, target_size=SIZE, class_mode='binary', shuffle=True, batch_size=BATCH_SIZE)\n",
    "val_batches = val_gen.flow_from_directory(VALID_DIR, target_size=SIZE, class_mode='binary', shuffle=True, batch_size=BATCH_SIZE)\n",
    "\n",
    "model = keras.applications.resnet50.ResNet50()\n",
    "\n",
    "classes = list(iter(batches.class_indices))\n",
    "model.layers.pop()\n",
    "for layer in model.layers:\n",
    "    layer.trainable=False\n",
    "last = model.layers[-1].output\n",
    "#x = Dense(len(classes), activation=\"softmax\")(last)\n",
    "x = Dense(1, activation=\"sigmoid\")(last)\n",
    "finetuned_model = Model(model.input, x)\n",
    "#finetuned_model.compile(optimizer=Adam(lr=0.0001), loss='categorical_crossentropy', metrics=['accuracy'])\n",
    "finetuned_model.compile(optimizer=Adam(lr=0.0001), loss='binary_crossentropy', metrics=['accuracy'])\n",
    "for c in batches.class_indices:\n",
    "    classes[batches.class_indices[c]] = c\n",
    "finetuned_model.classes = classes\n",
    "\n",
    "early_stopping = EarlyStopping(patience=10)\n",
    "checkpointer = ModelCheckpoint('./data/resnet50_best.h5', verbose=1, save_best_only=True)\n",
    "\n",
    "finetuned_model.fit_generator(batches, steps_per_epoch=num_train_steps, epochs=1000, callbacks=[early_stopping, checkpointer], validation_data=val_batches, validation_steps=num_valid_steps)\n",
    "finetuned_model.save('resnet50_final.h5')\n"
   ]
  }
 ],
 "metadata": {
  "kernelspec": {
   "display_name": "Python 3",
   "language": "python",
   "name": "python3"
  },
  "language_info": {
   "codemirror_mode": {
    "name": "ipython",
    "version": 3
   },
   "file_extension": ".py",
   "mimetype": "text/x-python",
   "name": "python",
   "nbconvert_exporter": "python",
   "pygments_lexer": "ipython3",
   "version": "3.7.4"
  },
  "toc": {
   "base_numbering": 1,
   "nav_menu": {},
   "number_sections": false,
   "sideBar": true,
   "skip_h1_title": false,
   "title_cell": "Table of Contents",
   "title_sidebar": "Contents",
   "toc_cell": false,
   "toc_position": {},
   "toc_section_display": true,
   "toc_window_display": false
  },
  "varInspector": {
   "cols": {
    "lenName": 16,
    "lenType": 16,
    "lenVar": 40
   },
   "kernels_config": {
    "python": {
     "delete_cmd_postfix": "",
     "delete_cmd_prefix": "del ",
     "library": "var_list.py",
     "varRefreshCmd": "print(var_dic_list())"
    },
    "r": {
     "delete_cmd_postfix": ") ",
     "delete_cmd_prefix": "rm(",
     "library": "var_list.r",
     "varRefreshCmd": "cat(var_dic_list()) "
    }
   },
   "types_to_exclude": [
    "module",
    "function",
    "builtin_function_or_method",
    "instance",
    "_Feature"
   ],
   "window_display": false
  }
 },
 "nbformat": 4,
 "nbformat_minor": 2
}
