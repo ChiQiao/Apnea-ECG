{
 "cells": [
  {
   "cell_type": "code",
   "execution_count": 51,
   "metadata": {
    "ExecuteTime": {
     "end_time": "2020-02-04T04:20:01.471941Z",
     "start_time": "2020-02-04T04:20:01.467979Z"
    }
   },
   "outputs": [],
   "source": [
    "import pickle\n",
    "import numpy as np\n",
    "import pandas as pd\n",
    "import matplotlib.pyplot as plt\n",
    "from scipy import signal\n",
    "\n",
    "import util"
   ]
  },
  {
   "cell_type": "code",
   "execution_count": 5,
   "metadata": {
    "ExecuteTime": {
     "end_time": "2020-02-04T03:44:23.100066Z",
     "start_time": "2020-02-04T03:44:23.002295Z"
    }
   },
   "outputs": [
    {
     "data": {
      "image/png": "[encoded data removed]",
      "text/plain": [
       "<Figure size 288x108 with 1 Axes>"
      ]
     },
     "metadata": {
      "needs_background": "light"
     },
     "output_type": "display_data"
    }
   ],
   "source": [
    "with open('../HR_data/a01.pkl', 'rb') as f:\n",
    "    data = pickle.load(f)\n",
    "\n",
    "plt.figure(figsize=(4,1.5))\n",
    "plt.plot(data['t'], data['hr'], 'b.', markersize=2)\n",
    "plt.xlim([0, 10])\n",
    "plt.ylim([0.5, 2])\n",
    "plt.xticks(np.arange(0, 11))\n",
    "plt.tight_layout()\n",
    "# plt.savefig('../archive/Data_HeartRate.png', dpi=300)"
   ]
  },
  {
   "cell_type": "code",
   "execution_count": 71,
   "metadata": {
    "ExecuteTime": {
     "end_time": "2020-02-04T05:05:13.416187Z",
     "start_time": "2020-02-04T05:05:13.046198Z"
    }
   },
   "outputs": [
    {
     "data": {
      "image/png": "[encoded data removed]",
      "text/plain": [
       "<Figure size 360x144 with 1 Axes>"
      ]
     },
     "metadata": {
      "needs_background": "light"
     },
     "output_type": "display_data"
    }
   ],
   "source": [
    "with open('../HR_data/b02.pkl', 'rb') as f:\n",
    "    data = pickle.load(f)\n",
    "t_hr, hr = util.smooth_hr(data['t'], data['hr'])\n",
    "apn = data['apn']\n",
    "\n",
    "minute_start, minute_end = [], []\n",
    "minute_start.append(0)\n",
    "for i in range(1, len(apn)):\n",
    "    if apn[i] != apn[i-1]:\n",
    "        minute_end.append(i)\n",
    "        minute_start.append(i)\n",
    "\n",
    "minute_end.append(len(apn) - 1)\n",
    "\n",
    "plt.figure(figsize=(5,2))\n",
    "plt.plot([-1, 0], [0, 0], '-', color=np.array([205, 65, 65]) / 255, label='Apnea')\n",
    "plt.plot([-1, 0], [0, 0], '-', color=np.array([155, 187, 89]) / 255, label='Non-apnea')\n",
    "for minute_start, minute_end in zip(minute_start, minute_end):\n",
    "    if apn[minute_start] == 1:\n",
    "        color = np.array([205, 65, 65]) / 255\n",
    "    else:\n",
    "        color = np.array([155, 187, 89]) / 255\n",
    "    idx = (t_hr > minute_start) & (t_hr < minute_end)\n",
    "    plt.plot(t_hr[idx], hr[idx], '-', markersize=2, color=color)\n",
    "    \n",
    "# plt.xlim([60, 90])\n",
    "plt.xlim([150, 180])\n",
    "plt.ylim([0.5, 2])\n",
    "# plt.xticks(np.arange(0, 11))\n",
    "plt.tight_layout()\n",
    "plt.legend(loc='upper left')\n",
    "# plt.savefig('../archive/Slide_HR_character.png', dpi=300)\n",
    "plt.savefig('../archive/Slide_challenge.png', dpi=600)"
   ]
  },
  {
   "cell_type": "code",
   "execution_count": 21,
   "metadata": {
    "ExecuteTime": {
     "end_time": "2020-02-04T04:01:07.861922Z",
     "start_time": "2020-02-04T04:01:05.115229Z"
    }
   },
   "outputs": [],
   "source": [
    "file_all = pd.read_csv('../resources/File_all.csv')\n",
    "pos, neg = [], [] \n",
    "for file in file_all['file']:\n",
    "    with open(f'../HR_data/{file}.pkl', 'rb') as f:\n",
    "        data = pickle.load(f)\n",
    "        apn = data['apn']\n",
    "        t = data['t']\n",
    "        hr = data['hr']\n",
    "    for minute in range(len(apn)):\n",
    "        idx = (t > minute) & (t < minute + 1)\n",
    "        temp = hr[idx]\n",
    "        temp = temp - np.median(temp)\n",
    "        if apn[minute]:\n",
    "            pos += list(temp)\n",
    "        else:\n",
    "            neg += list(temp)"
   ]
  },
  {
   "cell_type": "code",
   "execution_count": 23,
   "metadata": {
    "ExecuteTime": {
     "end_time": "2020-02-04T04:03:17.951888Z",
     "start_time": "2020-02-04T04:03:17.851124Z"
    }
   },
   "outputs": [
    {
     "name": "stdout",
     "output_type": "stream",
     "text": [
      "98.91304347826087 -2.1665065508263375 98.95833333333333 -2.3634824326231128\n"
     ]
    }
   ],
   "source": [
    "print(max(pos), min(pos), max(neg), min(neg))"
   ]
  },
  {
   "cell_type": "code",
   "execution_count": 69,
   "metadata": {
    "ExecuteTime": {
     "end_time": "2020-02-04T04:31:21.035767Z",
     "start_time": "2020-02-04T04:31:19.052042Z"
    }
   },
   "outputs": [
    {
     "data": {
      "image/png": "[encoded data removed]",
      "text/plain": [
       "<Figure size 288x216 with 1 Axes>"
      ]
     },
     "metadata": {
      "needs_background": "light"
     },
     "output_type": "display_data"
    }
   ],
   "source": [
    "plt.figure(figsize=(4,3))\n",
    "color_pos = np.array([205, 65, 65]) / 255\n",
    "color_neg = np.array([155, 187, 89]) / 255\n",
    "plt.hist(pos, bins=np.arange(-3, 3, 0.02), density=True, fc=(*color_pos, 0.8), label='Apnea')\n",
    "plt.hist(neg, bins=np.arange(-3, 3, 0.02), density=True, fc=(*color_neg, 0.8), label='Non-apnea')\n",
    "plt.xlim([-0.4, 0.4])\n",
    "plt.xlabel('Normalized heart rate (bps)', size=14)\n",
    "plt.ylabel('CDF', size=14)\n",
    "plt.legend()\n",
    "plt.tight_layout()\n",
    "plt.savefig('../archive/Slide_time_feature.png', dpi=300)"
   ]
  },
  {
   "cell_type": "code",
   "execution_count": 53,
   "metadata": {
    "ExecuteTime": {
     "end_time": "2020-02-04T04:20:18.775792Z",
     "start_time": "2020-02-04T04:20:12.316865Z"
    }
   },
   "outputs": [],
   "source": [
    "psd_pos, psd_neg = [], []\n",
    "freq = np.arange(0, 0.1, 0.001)\n",
    "for file in file_all['file']:\n",
    "    with open(f'../HR_data/{file}.pkl', 'rb') as f:\n",
    "        res = pickle.load(f)\n",
    "        hr = res['hr']\n",
    "        t_hr = res['t'] # in minute\n",
    "        apn = res['apn']\n",
    "        \n",
    "    t_hr, hr_smth = util.smooth_hr(t_hr, hr)\n",
    "\n",
    "    # Resample data for frequency-domain analysis\n",
    "    t_interp = np.arange(t_hr[0], t_hr[-1], 1 / 2.4 / 60)\n",
    "    hr_interp = np.interp(t_interp, t_hr, hr_smth)\n",
    "\n",
    "    # Extract features from each segment\n",
    "    for minute in range(len(apn) - 4):\n",
    "        hr_interp_5min = hr_interp[(t_interp > minute) & (t_interp < minute + 5)]\n",
    "\n",
    "        # Frequency-domain features\n",
    "        freq_, psd_ = signal.periodogram(hr_interp_5min, fs=2.4)\n",
    "        psd = np.interp(freq, freq_, psd_)\n",
    "        if apn[minute + 2]:\n",
    "            psd_pos.append(psd)\n",
    "        else:\n",
    "            psd_neg.append(psd)\n"
   ]
  },
  {
   "cell_type": "code",
   "execution_count": 57,
   "metadata": {
    "ExecuteTime": {
     "end_time": "2020-02-04T04:23:10.590094Z",
     "start_time": "2020-02-04T04:23:10.524270Z"
    }
   },
   "outputs": [],
   "source": [
    "psd_pos = np.vstack(psd_pos)\n",
    "psd_neg = np.vstack(psd_neg)"
   ]
  },
  {
   "cell_type": "code",
   "execution_count": 59,
   "metadata": {
    "ExecuteTime": {
     "end_time": "2020-02-04T04:23:21.043333Z",
     "start_time": "2020-02-04T04:23:21.037348Z"
    }
   },
   "outputs": [
    {
     "data": {
      "text/plain": [
       "(100,)"
      ]
     },
     "execution_count": 59,
     "metadata": {},
     "output_type": "execute_result"
    }
   ],
   "source": [
    "psd_pos.mean(axis=0).shape"
   ]
  },
  {
   "cell_type": "code",
   "execution_count": 70,
   "metadata": {
    "ExecuteTime": {
     "end_time": "2020-02-04T04:31:28.023398Z",
     "start_time": "2020-02-04T04:31:27.805011Z"
    }
   },
   "outputs": [
    {
     "data": {
      "image/png": "[encoded data removed]",
      "text/plain": [
       "<Figure size 288x216 with 1 Axes>"
      ]
     },
     "metadata": {
      "needs_background": "light"
     },
     "output_type": "display_data"
    }
   ],
   "source": [
    "plt.figure(figsize=(4,3))\n",
    "color_pos = np.array([205, 65, 65]) / 255\n",
    "color_neg = np.array([155, 187, 89]) / 255\n",
    "plt.plot(freq, psd_pos.mean(axis=0), '-', color=color_pos, label='Apnea')\n",
    "plt.plot(freq, psd_neg.mean(axis=0), '-', color=color_neg, label='Non-apnea')\n",
    "plt.xlabel('Frequency (Hz)', size=14)\n",
    "plt.ylabel('PSD', size=14)\n",
    "plt.legend()\n",
    "plt.tight_layout()\n",
    "plt.savefig('../archive/Slide_freq_feature.png', dpi=300)"
   ]
  }
 ],
 "metadata": {
  "kernelspec": {
   "display_name": "Python 3",
   "language": "python",
   "name": "python3"
  },
  "language_info": {
   "codemirror_mode": {
    "name": "ipython",
    "version": 3
   },
   "file_extension": ".py",
   "mimetype": "text/x-python",
   "name": "python",
   "nbconvert_exporter": "python",
   "pygments_lexer": "ipython3",
   "version": "3.7.4"
  },
  "toc": {
   "base_numbering": 1,
   "nav_menu": {},
   "number_sections": false,
   "sideBar": true,
   "skip_h1_title": false,
   "title_cell": "Table of Contents",
   "title_sidebar": "Contents",
   "toc_cell": false,
   "toc_position": {},
   "toc_section_display": true,
   "toc_window_display": false
  },
  "varInspector": {
   "cols": {
    "lenName": 16,
    "lenType": 16,
    "lenVar": 40
   },
   "kernels_config": {
    "python": {
     "delete_cmd_postfix": "",
     "delete_cmd_prefix": "del ",
     "library": "var_list.py",
     "varRefreshCmd": "print(var_dic_list())"
    },
    "r": {
     "delete_cmd_postfix": ") ",
     "delete_cmd_prefix": "rm(",
     "library": "var_list.r",
     "varRefreshCmd": "cat(var_dic_list()) "
    }
   },
   "types_to_exclude": [
    "module",
    "function",
    "builtin_function_or_method",
    "instance",
    "_Feature"
   ],
   "window_display": false
  }
 },
 "nbformat": 4,
 "nbformat_minor": 2
}
