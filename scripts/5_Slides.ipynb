{
 "cells": [
  {
   "cell_type": "markdown",
   "metadata": {},
   "source": [
    "# Generate figures for the slide"
   ]
  },
  {
   "cell_type": "code",
   "execution_count": 1,
   "metadata": {
    "ExecuteTime": {
     "end_time": "2020-02-06T22:25:22.221817Z",
     "start_time": "2020-02-06T22:25:16.738504Z"
    }
   },
   "outputs": [],
   "source": [
    "import pickle\n",
    "import numpy as np\n",
    "import pandas as pd\n",
    "import matplotlib.pyplot as plt\n",
    "from scipy import signal, trapz\n",
    "import seaborn as sns\n",
    "\n",
    "import util"
   ]
  },
  {
   "cell_type": "code",
   "execution_count": 4,
   "metadata": {
    "ExecuteTime": {
     "end_time": "2020-02-06T06:43:44.946489Z",
     "start_time": "2020-02-06T06:43:44.778907Z"
    }
   },
   "outputs": [
    {
     "data": {
      "image/png": "[encoded data removed]",
      "text/plain": [
       "<Figure size 288x108 with 1 Axes>"
      ]
     },
     "metadata": {
      "needs_background": "light"
     },
     "output_type": "display_data"
    }
   ],
   "source": [
    "with open('../HR_data/a01.pkl', 'rb') as f:\n",
    "    data = pickle.load(f)\n",
    "\n",
    "plt.figure(figsize=(4,1.5))\n",
    "plt.plot(data['t'], data['hr'], 'b.', markersize=2)\n",
    "plt.xlim([0, 5])\n",
    "plt.ylim([0.5, 2])\n",
    "plt.xticks(np.arange(0, 6))\n",
    "plt.tight_layout()\n",
    "plt.savefig('../archive/Data_HeartRate.png', dpi=300)"
   ]
  },
  {
   "cell_type": "code",
   "execution_count": 20,
   "metadata": {
    "ExecuteTime": {
     "end_time": "2020-02-06T06:48:57.243643Z",
     "start_time": "2020-02-06T06:48:57.034067Z"
    }
   },
   "outputs": [
    {
     "data": {
      "image/png": "[encoded data removed]",
      "text/plain": [
       "<Figure size 288x108 with 1 Axes>"
      ]
     },
     "metadata": {
      "needs_background": "light"
     },
     "output_type": "display_data"
    }
   ],
   "source": [
    "with open('../data/processed/a01.pkl', 'rb') as f:\n",
    "    data = pickle.load(f)\n",
    "    ecg = data['ecg'].flatten()[0 : 30000]\n",
    "    t = np.linspace(0, 5, 30000)\n",
    "\n",
    "plt.figure(figsize=(4,1.5))\n",
    "plt.plot(t, ecg, 'b-', linewidth=1)\n",
    "plt.xlim([0, 5])\n",
    "# plt.ylim([0.5, 2])\n",
    "plt.xticks(np.arange(0, 6))\n",
    "plt.tight_layout()\n",
    "plt.savefig('../archive/Data_ECG.png', dpi=300)"
   ]
  },
  {
   "cell_type": "code",
   "execution_count": 25,
   "metadata": {
    "ExecuteTime": {
     "end_time": "2020-02-06T07:08:46.861982Z",
     "start_time": "2020-02-06T07:08:46.733326Z"
    }
   },
   "outputs": [
    {
     "data": {
      "image/png": "[encoded data removed]",
      "text/plain": [
       "<Figure size 216x86.4 with 1 Axes>"
      ]
     },
     "metadata": {
      "needs_background": "light"
     },
     "output_type": "display_data"
    }
   ],
   "source": [
    "with open('../data/processed/a01.pkl', 'rb') as f:\n",
    "    data = pickle.load(f)\n",
    "    ecg = data['ecg'].flatten()[0 : 30000]\n",
    "    t = np.linspace(0, 5, 30000)\n",
    "\n",
    "plt.figure(figsize=(3, 1.2))\n",
    "plt.plot(t * 60, ecg, 'b-', linewidth=1)\n",
    "plt.xlim([0, 2])\n",
    "# plt.ylim([0.5, 2])\n",
    "plt.xticks(np.arange(0, 3))\n",
    "plt.tight_layout()\n",
    "plt.savefig('../archive/Data_ECG_detail.png', dpi=300)"
   ]
  },
  {
   "cell_type": "code",
   "execution_count": 71,
   "metadata": {
    "ExecuteTime": {
     "end_time": "2020-02-04T05:05:13.416187Z",
     "start_time": "2020-02-04T05:05:13.046198Z"
    }
   },
   "outputs": [
    {
     "data": {
      "image/png": "[encoded data removed]",
      "text/plain": [
       "<Figure size 360x144 with 1 Axes>"
      ]
     },
     "metadata": {
      "needs_background": "light"
     },
     "output_type": "display_data"
    }
   ],
   "source": [
    "with open('../HR_data/b02.pkl', 'rb') as f:\n",
    "    data = pickle.load(f)\n",
    "t_hr, hr = util.smooth_hr(data['t'], data['hr'])\n",
    "apn = data['apn']\n",
    "\n",
    "minute_start, minute_end = [], []\n",
    "minute_start.append(0)\n",
    "for i in range(1, len(apn)):\n",
    "    if apn[i] != apn[i-1]:\n",
    "        minute_end.append(i)\n",
    "        minute_start.append(i)\n",
    "\n",
    "minute_end.append(len(apn) - 1)\n",
    "\n",
    "plt.figure(figsize=(5,2))\n",
    "plt.plot([-1, 0], [0, 0], '-', color=np.array([205, 65, 65]) / 255, label='Apnea')\n",
    "plt.plot([-1, 0], [0, 0], '-', color=np.array([155, 187, 89]) / 255, label='Non-apnea')\n",
    "for minute_start, minute_end in zip(minute_start, minute_end):\n",
    "    if apn[minute_start] == 1:\n",
    "        color = np.array([205, 65, 65]) / 255\n",
    "    else:\n",
    "        color = np.array([155, 187, 89]) / 255\n",
    "    idx = (t_hr > minute_start) & (t_hr < minute_end)\n",
    "    plt.plot(t_hr[idx], hr[idx], '-', markersize=2, color=color)\n",
    "    \n",
    "# plt.xlim([60, 90])\n",
    "plt.xlim([150, 180])\n",
    "plt.ylim([0.5, 2])\n",
    "# plt.xticks(np.arange(0, 11))\n",
    "plt.tight_layout()\n",
    "plt.legend(loc='upper left')\n",
    "# plt.savefig('../archive/Slide_HR_character.png', dpi=300)\n",
    "plt.savefig('../archive/Slide_challenge.png', dpi=600)"
   ]
  },
  {
   "cell_type": "code",
   "execution_count": 2,
   "metadata": {
    "ExecuteTime": {
     "end_time": "2020-02-05T05:53:07.517115Z",
     "start_time": "2020-02-05T05:53:04.357135Z"
    }
   },
   "outputs": [],
   "source": [
    "file_all = pd.read_csv('../resources/File_all.csv')\n",
    "pos, neg = [], [] \n",
    "for file in file_all['file']:\n",
    "    with open(f'../HR_data/{file}.pkl', 'rb') as f:\n",
    "        data = pickle.load(f)\n",
    "        apn = data['apn']\n",
    "        t = data['t']\n",
    "        hr = data['hr']\n",
    "    for minute in range(len(apn)):\n",
    "        idx = (t > minute) & (t < minute + 1)\n",
    "        temp = hr[idx]\n",
    "        temp = temp - np.median(temp)\n",
    "        if apn[minute]:\n",
    "            pos += list(temp)\n",
    "        else:\n",
    "            neg += list(temp)\n",
    "            \n",
    "pos = np.array(pos)\n",
    "neg = np.array(neg)"
   ]
  },
  {
   "cell_type": "code",
   "execution_count": 22,
   "metadata": {
    "ExecuteTime": {
     "end_time": "2020-02-04T17:00:37.248477Z",
     "start_time": "2020-02-04T17:00:22.608542Z"
    }
   },
   "outputs": [
    {
     "data": {
      "image/png": "[encoded data removed]",
      "text/plain": [
       "<Figure size 252x216 with 1 Axes>"
      ]
     },
     "metadata": {
      "needs_background": "light"
     },
     "output_type": "display_data"
    }
   ],
   "source": [
    "plt.figure(figsize=(3.5,3))\n",
    "color_pos = np.array([205, 65, 65]) / 255\n",
    "color_neg = np.array([155, 187, 89]) / 255\n",
    "\n",
    "# plt.hist(pos, bins=np.arange(-3, 3, 0.02), density=True, fc=(*color_pos, 0.8))\n",
    "# plt.hist(neg, bins=np.arange(-3, 3, 0.02), density=True, fc=(*color_neg, 0.8))\n",
    "sns.kdeplot(pos[(pos < 0.5) & (pos > -0.5)], shade=False, color=color_pos, label='Apnea')\n",
    "sns.kdeplot(neg[(neg < 0.5) & (neg > -0.5)], shade=False, color=color_neg, label='Non-apnea')\n",
    "\n",
    "plt.xlim([-0.4, 0.4])\n",
    "plt.xlabel('Normalized heart rate (bps)', size=14)\n",
    "plt.title('Probability density', size=14)\n",
    "plt.legend()\n",
    "plt.tight_layout()\n",
    "plt.savefig('../archive/Slide_time_feature.png', dpi=300)"
   ]
  },
  {
   "cell_type": "code",
   "execution_count": 3,
   "metadata": {
    "ExecuteTime": {
     "end_time": "2020-02-05T05:53:24.837014Z",
     "start_time": "2020-02-05T05:53:18.227706Z"
    }
   },
   "outputs": [],
   "source": [
    "psd_pos, psd_neg = [], []\n",
    "freq = np.arange(0, 0.1, 0.001)\n",
    "for file in file_all['file']:\n",
    "    with open(f'../HR_data/{file}.pkl', 'rb') as f:\n",
    "        res = pickle.load(f)\n",
    "        hr = res['hr']\n",
    "        t_hr = res['t'] # in minute\n",
    "        apn = res['apn']\n",
    "        \n",
    "    t_hr, hr_smth = util.smooth_hr(t_hr, hr)\n",
    "\n",
    "    # Resample data for frequency-domain analysis\n",
    "    t_interp = np.arange(t_hr[0], t_hr[-1], 1 / 2.4 / 60)\n",
    "    hr_interp = np.interp(t_interp, t_hr, hr_smth)\n",
    "\n",
    "    # Extract features from each segment\n",
    "    for minute in range(len(apn) - 4):\n",
    "        hr_interp_5min = hr_interp[(t_interp > minute) & (t_interp < minute + 5)]\n",
    "\n",
    "        # Frequency-domain features\n",
    "        freq_, psd_ = signal.periodogram(hr_interp_5min, fs=2.4)\n",
    "        psd = np.interp(freq, freq_, psd_)\n",
    "        if apn[minute + 2]:\n",
    "            psd_pos.append(psd)\n",
    "        else:\n",
    "            psd_neg.append(psd)\n",
    "\n",
    "psd_pos = np.vstack(psd_pos)\n",
    "psd_neg = np.vstack(psd_neg)"
   ]
  },
  {
   "cell_type": "code",
   "execution_count": 4,
   "metadata": {
    "ExecuteTime": {
     "end_time": "2020-02-05T05:53:30.629390Z",
     "start_time": "2020-02-05T05:53:30.388967Z"
    }
   },
   "outputs": [
    {
     "data": {
      "image/png": "[encoded data removed]",
      "text/plain": [
       "<Figure size 252x216 with 1 Axes>"
      ]
     },
     "metadata": {
      "needs_background": "light"
     },
     "output_type": "display_data"
    }
   ],
   "source": [
    "plt.figure(figsize=(3.5,3))\n",
    "color_pos = np.array([205, 65, 65]) / 255\n",
    "color_neg = np.array([155, 187, 89]) / 255\n",
    "plt.plot(freq, psd_pos.mean(axis=0), '-', color=color_pos, label='Apnea')\n",
    "plt.plot(freq, psd_neg.mean(axis=0), '-', color=color_neg, label='Non-apnea')\n",
    "plt.xlabel('Frequency (Hz)', size=14)\n",
    "plt.title('Fourier Spectrum', size=14)\n",
    "plt.xlim([0, 0.08])\n",
    "plt.ylim([0, 0.48])\n",
    "plt.legend()\n",
    "plt.tight_layout()\n",
    "plt.savefig('../archive/Slide_freq_feature.png', dpi=300)"
   ]
  },
  {
   "cell_type": "code",
   "execution_count": null,
   "metadata": {},
   "outputs": [],
   "source": [
    "plt.barh([0, 1, 2], [, xerr=error, align='center')\n",
    "ax.set_yticks(y_pos)\n",
    "ax.set_yticklabels(people)\n",
    "ax.invert_yaxis()  # labels read top-to-bottom\n",
    "ax.set_xlabel('Performance')\n",
    "ax.set_title('How fast do you want to go today?')"
   ]
  }
 ],
 "metadata": {
  "kernelspec": {
   "display_name": "Python 3",
   "language": "python",
   "name": "python3"
  },
  "language_info": {
   "codemirror_mode": {
    "name": "ipython",
    "version": 3
   },
   "file_extension": ".py",
   "mimetype": "text/x-python",
   "name": "python",
   "nbconvert_exporter": "python",
   "pygments_lexer": "ipython3",
   "version": "3.8.1"
  },
  "toc": {
   "base_numbering": 1,
   "nav_menu": {},
   "number_sections": false,
   "sideBar": true,
   "skip_h1_title": false,
   "title_cell": "Table of Contents",
   "title_sidebar": "Contents",
   "toc_cell": false,
   "toc_position": {},
   "toc_section_display": true,
   "toc_window_display": false
  },
  "varInspector": {
   "cols": {
    "lenName": 16,
    "lenType": 16,
    "lenVar": 40
   },
   "kernels_config": {
    "python": {
     "delete_cmd_postfix": "",
     "delete_cmd_prefix": "del ",
     "library": "var_list.py",
     "varRefreshCmd": "print(var_dic_list())"
    },
    "r": {
     "delete_cmd_postfix": ") ",
     "delete_cmd_prefix": "rm(",
     "library": "var_list.r",
     "varRefreshCmd": "cat(var_dic_list()) "
    }
   },
   "types_to_exclude": [
    "module",
    "function",
    "builtin_function_or_method",
    "instance",
    "_Feature"
   ],
   "window_display": false
  }
 },
 "nbformat": 4,
 "nbformat_minor": 2
}
