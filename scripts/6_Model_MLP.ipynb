{
 "cells": [
  {
   "cell_type": "code",
   "execution_count": 1,
   "metadata": {
    "ExecuteTime": {
     "end_time": "2020-02-03T21:43:03.260118Z",
     "start_time": "2020-02-03T21:43:01.909612Z"
    }
   },
   "outputs": [],
   "source": [
    "import numpy as np\n",
    "from scipy import signal\n",
    "import pandas as pd\n",
    "import pickle\n",
    "\n",
    "import matplotlib.pyplot as plt\n",
    "from matplotlib import style\n",
    "# style.use('dark_background')\n",
    "\n",
    "from sklearn import preprocessing\n",
    "from sklearn.neural_network import MLPClassifier\n",
    "from sklearn.dummy import DummyClassifier\n",
    "from sklearn.model_selection import StratifiedKFold, train_test_split\n",
    "from sklearn.feature_selection import SelectFromModel\n",
    "from sklearn import metrics\n",
    "\n",
    "import util"
   ]
  },
  {
   "cell_type": "code",
   "execution_count": 2,
   "metadata": {
    "ExecuteTime": {
     "end_time": "2020-02-03T21:43:10.085358Z",
     "start_time": "2020-02-03T21:43:09.818159Z"
    }
   },
   "outputs": [],
   "source": [
    "df = pd.read_csv('../features/feature_train.csv')\n",
    "feature_col = df.drop(labels=['apn', 'file', 'group'], axis=1).columns\n",
    "train_df = pd.read_csv('../resources/File_train.csv')"
   ]
  },
  {
   "cell_type": "code",
   "execution_count": 4,
   "metadata": {
    "ExecuteTime": {
     "end_time": "2020-02-03T21:44:23.724608Z",
     "start_time": "2020-02-03T21:43:59.813185Z"
    }
   },
   "outputs": [
    {
     "name": "stdout",
     "output_type": "stream",
     "text": [
      "Baseline performance: 0.892 for training, 0.808 for validation\n"
     ]
    }
   ],
   "source": [
    "mlp = MLPClassifier(\n",
    "    hidden_layer_sizes=(20, 20, 20, 20, 20), \n",
    "    max_iter=2000,\n",
    "    early_stopping=True,\n",
    "    validation_fraction=0.1,\n",
    "    random_state=123)\n",
    "acc_train, acc_val, _ = util.model_evaluation_CV(mlp, df, train_df, feature_col, normalize=True, n=4)\n",
    "print(f'Baseline performance: {acc_train:.3f} for training, {acc_val:.3f} for validation')\n"
   ]
  },
  {
   "cell_type": "code",
   "execution_count": 5,
   "metadata": {
    "ExecuteTime": {
     "end_time": "2020-02-03T21:44:43.183252Z",
     "start_time": "2020-02-03T21:44:34.653083Z"
    }
   },
   "outputs": [
    {
     "name": "stdout",
     "output_type": "stream",
     "text": [
      "Baseline performance: 0.855 for training, 0.805 for validation\n"
     ]
    }
   ],
   "source": [
    "mlp = MLPClassifier(\n",
    "    hidden_layer_sizes=(5, 5), \n",
    "    max_iter=2000,\n",
    "    early_stopping=True,\n",
    "    validation_fraction=0.1,\n",
    "    random_state=123)\n",
    "acc_train, acc_val, _ = util.model_evaluation_CV(mlp, df, train_df, feature_col, normalize=True, n=4)\n",
    "print(f'Baseline performance: {acc_train:.3f} for training, {acc_val:.3f} for validation')\n"
   ]
  },
  {
   "cell_type": "code",
   "execution_count": null,
   "metadata": {
    "scrolled": true
   },
   "outputs": [],
   "source": [
    "file = 'a15'\n",
    "with open('../HR_data/' + file + '.pkl', 'rb') as f:\n",
    "    data = pickle.load(f)\n",
    "\n",
    "b, a = signal.butter(3, 0.1)\n",
    "t, hr = data['t'], data['hr']\n",
    "idx_valid = (hr < 2) & (hr > 0.5)\n",
    "hr, t = hr[idx_valid], t[idx_valid]\n",
    "hr_smth = signal.filtfilt(b, a, hr)\n",
    "\n",
    "res = np.transpose(seg_pred[file])\n",
    "assert res.shape[0] == np.ceil(t[-1]) - 4\n",
    "\n",
    "select_num = 3\n",
    "\n",
    "plt.figure(figsize=(16, 12))\n",
    "for case in range(4):\n",
    "    if case == 0:\n",
    "        val = [1, 0]\n",
    "        label = 'False Negative'\n",
    "    elif case == 1:\n",
    "        val = [0, 1]\n",
    "        label = 'False Positive'\n",
    "    elif case == 2:\n",
    "        val = [1, 1]\n",
    "        label = 'True Positive'\n",
    "    elif case == 3:\n",
    "        val = [0, 0]\n",
    "        label = 'True Negative'\n",
    "        \n",
    "    idx = np.where((res == val).all(axis=1))[0]\n",
    "    idx_plot = np.random.choice(idx, select_num)\n",
    "    \n",
    "    plt.subplot(2, 2, case + 1)\n",
    "    for idx in idx_plot:\n",
    "        idx_t = (t > idx) & (t < idx + 5)\n",
    "        plt.plot(t[idx_t] - idx, hr_smth[idx_t])\n",
    "        \n",
    "    plt.title(label)\n",
    "    plt.xlabel('minute')\n",
    "    plt.ylabel('HR')\n",
    "    \n",
    "plt.show()"
   ]
  }
 ],
 "metadata": {
  "kernelspec": {
   "display_name": "Python 3",
   "language": "python",
   "name": "python3"
  },
  "language_info": {
   "codemirror_mode": {
    "name": "ipython",
    "version": 3
   },
   "file_extension": ".py",
   "mimetype": "text/x-python",
   "name": "python",
   "nbconvert_exporter": "python",
   "pygments_lexer": "ipython3",
   "version": "3.8.1"
  },
  "toc": {
   "base_numbering": 1,
   "nav_menu": {},
   "number_sections": false,
   "sideBar": true,
   "skip_h1_title": false,
   "title_cell": "Table of Contents",
   "title_sidebar": "Contents",
   "toc_cell": false,
   "toc_position": {},
   "toc_section_display": true,
   "toc_window_display": false
  },
  "varInspector": {
   "cols": {
    "lenName": 16,
    "lenType": 16,
    "lenVar": 40
   },
   "kernels_config": {
    "python": {
     "delete_cmd_postfix": "",
     "delete_cmd_prefix": "del ",
     "library": "var_list.py",
     "varRefreshCmd": "print(var_dic_list())"
    },
    "r": {
     "delete_cmd_postfix": ") ",
     "delete_cmd_prefix": "rm(",
     "library": "var_list.r",
     "varRefreshCmd": "cat(var_dic_list()) "
    }
   },
   "types_to_exclude": [
    "module",
    "function",
    "builtin_function_or_method",
    "instance",
    "_Feature"
   ],
   "window_display": false
  }
 },
 "nbformat": 4,
 "nbformat_minor": 4
}
