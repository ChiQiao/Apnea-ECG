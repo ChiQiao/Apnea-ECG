{
 "cells": [
  {
   "cell_type": "code",
   "execution_count": 1,
   "metadata": {
    "ExecuteTime": {
     "end_time": "2020-02-07T16:18:52.670164Z",
     "start_time": "2020-02-07T16:18:48.017816Z"
    }
   },
   "outputs": [],
   "source": [
    "import importlib\n",
    "import itertools\n",
    "import matplotlib.pyplot as plt\n",
    "import numpy as np\n",
    "import pandas as pd\n",
    "import pickle\n",
    "import seaborn as sns\n",
    "from lightgbm import LGBMClassifier\n",
    "from matplotlib import style\n",
    "from sklearn import preprocessing\n",
    "from sklearn.model_selection import train_test_split\n",
    "from sklearn.linear_model import LogisticRegression\n",
    "from sklearn.neural_network import MLPClassifier\n",
    "from sklearn import metrics\n",
    "\n",
    "import util\n",
    "\n",
    "# style.use('dark_background')"
   ]
  },
  {
   "cell_type": "code",
   "execution_count": 73,
   "metadata": {
    "ExecuteTime": {
     "end_time": "2020-02-06T21:49:15.495543Z",
     "start_time": "2020-02-06T21:49:15.453064Z"
    }
   },
   "outputs": [
    {
     "data": {
      "text/plain": [
       "<module 'util' from 'C:\\\\Users\\\\joey3\\\\OneDrive\\\\CS_DS\\\\Apnea-ECG\\\\scripts\\\\util.py'>"
      ]
     },
     "execution_count": 73,
     "metadata": {},
     "output_type": "execute_result"
    }
   ],
   "source": [
    "importlib.reload(util)"
   ]
  },
  {
   "cell_type": "markdown",
   "metadata": {},
   "source": [
    "# 0. Preparation"
   ]
  },
  {
   "cell_type": "code",
   "execution_count": 2,
   "metadata": {
    "ExecuteTime": {
     "end_time": "2020-02-07T16:18:55.879186Z",
     "start_time": "2020-02-07T16:18:52.672160Z"
    }
   },
   "outputs": [],
   "source": [
    "# Load selected features\n",
    "with open('../features/feature_selection.pkl', 'rb') as f:\n",
    "    feature_col = pickle.load(f)\n",
    "    \n",
    "# Form training set\n",
    "file_train = pd.read_csv('../resources/File_train.csv')\n",
    "df_train = pd.DataFrame()\n",
    "for file in file_train['file']:\n",
    "    df_train = df_train.append(pd.read_csv(f'../features/{file}.csv'), ignore_index=True)\n",
    "\n",
    "# Form testing set\n",
    "file_test = pd.read_csv('../resources/File_test.csv')\n",
    "df_test = pd.DataFrame()\n",
    "for file in file_test['file']:\n",
    "    df_test = df_test.append(pd.read_csv(f'../features/{file}.csv'), ignore_index=True)"
   ]
  },
  {
   "cell_type": "code",
   "execution_count": 8,
   "metadata": {
    "ExecuteTime": {
     "end_time": "2020-02-06T05:10:33.428413Z",
     "start_time": "2020-02-06T05:10:17.591641Z"
    }
   },
   "outputs": [
    {
     "name": "stdout",
     "output_type": "stream",
     "text": [
      "*** Selected features ***\n",
      "Minute_wise AUC: 0.885, Group-wise AUC: 0.951, Group-wise F1: 0.5211425973607386\n",
      "*** All features ***\n",
      "Minute_wise AUC: 0.885, Group-wise AUC: 0.950, Group-wise F1: 0.5203431545126286\n"
     ]
    }
   ],
   "source": [
    "# Test for selected features & all features\n",
    "mdl=LogisticRegression(max_iter=1e4)\n",
    "minute_auc, group_f1_macro, group_auc_macro, res_detail = util.model_evaluation_CV(mdl, df_train, file_train, feature_col)\n",
    "print(f'*** Selected features ***')\n",
    "print(f'Minute_wise AUC: {minute_auc:.3f}, Group-wise AUC: {group_auc_macro:.3f}, Group-wise F1: {group_f1_macro}')\n",
    "\n",
    "mdl=LogisticRegression(max_iter=1e4)\n",
    "minute_auc, group_f1_macro, group_auc_macro, res_detail = util.model_evaluation_CV(\n",
    "    mdl, df_train, file_train, df_train.drop(['apn', 'file', 'group'], axis=1).columns)\n",
    "print(f'*** All features ***')\n",
    "print(f'Minute_wise AUC: {minute_auc:.3f}, Group-wise AUC: {group_auc_macro:.3f}, Group-wise F1: {group_f1_macro}')"
   ]
  },
  {
   "cell_type": "markdown",
   "metadata": {},
   "source": [
    "# 1. Logistic Regression"
   ]
  },
  {
   "cell_type": "code",
   "execution_count": 14,
   "metadata": {
    "ExecuteTime": {
     "end_time": "2020-02-06T05:28:46.864495Z",
     "start_time": "2020-02-06T05:27:57.093495Z"
    },
    "scrolled": true
   },
   "outputs": [
    {
     "name": "stdout",
     "output_type": "stream",
     "text": [
      "*** C = 0.01 ***\n",
      "Minute_wise AUC: 0.887, Group-wise AUC: 0.945, Group-wise F1: 0.521\n",
      "*** C = 0.05 ***\n",
      "Minute_wise AUC: 0.888, Group-wise AUC: 0.953, Group-wise F1: 0.524\n",
      "*** C = 0.10 ***\n",
      "Minute_wise AUC: 0.888, Group-wise AUC: 0.951, Group-wise F1: 0.526\n",
      "*** C = 0.50 ***\n",
      "Minute_wise AUC: 0.886, Group-wise AUC: 0.951, Group-wise F1: 0.523\n",
      "*** C = 1.00 ***\n",
      "Minute_wise AUC: 0.885, Group-wise AUC: 0.951, Group-wise F1: 0.521\n",
      "*** C = 5.00 ***\n",
      "Minute_wise AUC: 0.881, Group-wise AUC: 0.924, Group-wise F1: 0.497\n",
      "*** C = 10.00 ***\n",
      "Minute_wise AUC: 0.879, Group-wise AUC: 0.923, Group-wise F1: 0.497\n"
     ]
    }
   ],
   "source": [
    "# Hyperparameter tuning\n",
    "# Optimal C: 0.05\n",
    "# Minute_wise AUC: 0.888, Group-wise AUC: 0.951, Group-wise F1: 0.526\n",
    "for C in [0.01, 0.05, 0.1, 0.5, 1, 5, 10]:\n",
    "    mdl=LogisticRegression(C=C, max_iter=1e4)\n",
    "    minute_auc, group_f1_macro, group_auc_macro, res_detail = util.model_evaluation_CV(\n",
    "        mdl, df_train, file_train, feature_col)\n",
    "    print(f'*** C = {C:.2f} ***')\n",
    "    print(f'Minute_wise AUC: {minute_auc:.3f}, Group-wise AUC: {group_auc_macro:.3f}, Group-wise F1: {group_f1_macro:.3f}')"
   ]
  },
  {
   "cell_type": "markdown",
   "metadata": {},
   "source": [
    "# 2. MLP"
   ]
  },
  {
   "cell_type": "code",
   "execution_count": 17,
   "metadata": {
    "ExecuteTime": {
     "end_time": "2020-02-06T05:39:51.585748Z",
     "start_time": "2020-02-06T05:34:36.384474Z"
    }
   },
   "outputs": [
    {
     "name": "stdout",
     "output_type": "stream",
     "text": [
      "*** Layer size: (16, 16) ***\n",
      "Minute_wise AUC: 0.891, Group-wise AUC: 0.925, Group-wise F1: 0.522\n",
      "*** Layer size: (32, 32) ***\n",
      "Minute_wise AUC: 0.898, Group-wise AUC: 0.948, Group-wise F1: 0.525\n",
      "*** Layer size: (64, 64) ***\n",
      "Minute_wise AUC: 0.898, Group-wise AUC: 0.938, Group-wise F1: 0.558\n",
      "*** Layer size: (16, 16, 16, 16, 16, 16) ***\n",
      "Minute_wise AUC: 0.891, Group-wise AUC: 0.941, Group-wise F1: 0.578\n",
      "*** Layer size: (32, 32, 32, 32, 32, 32) ***\n",
      "Minute_wise AUC: 0.899, Group-wise AUC: 0.957, Group-wise F1: 0.568\n",
      "*** Layer size: (64, 64, 64, 64, 64, 64) ***\n",
      "Minute_wise AUC: 0.892, Group-wise AUC: 0.937, Group-wise F1: 0.560\n",
      "*** Layer size: (16, 16, 16, 16, 16, 16, 16, 16, 16, 16) ***\n",
      "Minute_wise AUC: 0.890, Group-wise AUC: 0.945, Group-wise F1: 0.543\n",
      "*** Layer size: (32, 32, 32, 32, 32, 32, 32, 32, 32, 32) ***\n",
      "Minute_wise AUC: 0.881, Group-wise AUC: 0.953, Group-wise F1: 0.574\n",
      "*** Layer size: (64, 64, 64, 64, 64, 64, 64, 64, 64, 64) ***\n",
      "Minute_wise AUC: 0.884, Group-wise AUC: 0.957, Group-wise F1: 0.566\n"
     ]
    }
   ],
   "source": [
    "# Hyperparameter tuning\n",
    "# Optimal structure: 32 x 6\n",
    "# Minute_wise AUC: 0.899, Group-wise AUC: 0.957, Group-wise F1: 0.568\n",
    "for layer_size in [(16, 16), (32, 32), (64, 64), \n",
    "                   (16, ) * 6, (32, ) * 6, (64, ) * 6, \n",
    "                   (16, ) * 10, (32, ) * 10, (64, ) * 10]:\n",
    "    mdl = MLPClassifier(\n",
    "        hidden_layer_sizes=layer_size, \n",
    "        max_iter=2000,\n",
    "        early_stopping=True,\n",
    "        validation_fraction=0.1,\n",
    "        random_state=123)\n",
    "    minute_auc, group_f1_macro, group_auc_macro, res_detail = util.model_evaluation_CV(\n",
    "        mdl, df_train, file_train, feature_col)\n",
    "    print(f'*** Layer size: {layer_size} ***')\n",
    "    print(f'Minute_wise AUC: {minute_auc:.3f}, Group-wise AUC: {group_auc_macro:.3f}, Group-wise F1: {group_f1_macro:.3f}')"
   ]
  },
  {
   "cell_type": "markdown",
   "metadata": {},
   "source": [
    "# 3. Light GBM"
   ]
  },
  {
   "cell_type": "code",
   "execution_count": 25,
   "metadata": {
    "ExecuteTime": {
     "end_time": "2020-02-06T06:32:27.442751Z",
     "start_time": "2020-02-06T06:01:39.115988Z"
    }
   },
   "outputs": [
    {
     "data": {
      "text/html": [
       "<div>\n",
       "<style scoped>\n",
       "    .dataframe tbody tr th:only-of-type {\n",
       "        vertical-align: middle;\n",
       "    }\n",
       "\n",
       "    .dataframe tbody tr th {\n",
       "        vertical-align: top;\n",
       "    }\n",
       "\n",
       "    .dataframe thead th {\n",
       "        text-align: right;\n",
       "    }\n",
       "</style>\n",
       "<table border=\"1\" class=\"dataframe\">\n",
       "  <thead>\n",
       "    <tr style=\"text-align: right;\">\n",
       "      <th></th>\n",
       "      <th>group_auc_macro</th>\n",
       "      <th>group_f1_macro</th>\n",
       "      <th>max_depth</th>\n",
       "      <th>minute_auc</th>\n",
       "      <th>n_estimators</th>\n",
       "      <th>num_leaves</th>\n",
       "    </tr>\n",
       "  </thead>\n",
       "  <tbody>\n",
       "    <tr>\n",
       "      <th>0</th>\n",
       "      <td>0.956576</td>\n",
       "      <td>0.566218</td>\n",
       "      <td>-1.0</td>\n",
       "      <td>0.884164</td>\n",
       "      <td>50.0</td>\n",
       "      <td>8.0</td>\n",
       "    </tr>\n",
       "    <tr>\n",
       "      <th>1</th>\n",
       "      <td>0.956576</td>\n",
       "      <td>0.566218</td>\n",
       "      <td>-1.0</td>\n",
       "      <td>0.884164</td>\n",
       "      <td>100.0</td>\n",
       "      <td>8.0</td>\n",
       "    </tr>\n",
       "    <tr>\n",
       "      <th>2</th>\n",
       "      <td>0.956576</td>\n",
       "      <td>0.566218</td>\n",
       "      <td>-1.0</td>\n",
       "      <td>0.884164</td>\n",
       "      <td>500.0</td>\n",
       "      <td>8.0</td>\n",
       "    </tr>\n",
       "    <tr>\n",
       "      <th>3</th>\n",
       "      <td>0.956576</td>\n",
       "      <td>0.566218</td>\n",
       "      <td>8.0</td>\n",
       "      <td>0.884164</td>\n",
       "      <td>50.0</td>\n",
       "      <td>8.0</td>\n",
       "    </tr>\n",
       "    <tr>\n",
       "      <th>4</th>\n",
       "      <td>0.956576</td>\n",
       "      <td>0.566218</td>\n",
       "      <td>8.0</td>\n",
       "      <td>0.884164</td>\n",
       "      <td>100.0</td>\n",
       "      <td>8.0</td>\n",
       "    </tr>\n",
       "    <tr>\n",
       "      <th>5</th>\n",
       "      <td>0.956576</td>\n",
       "      <td>0.566218</td>\n",
       "      <td>8.0</td>\n",
       "      <td>0.884164</td>\n",
       "      <td>500.0</td>\n",
       "      <td>8.0</td>\n",
       "    </tr>\n",
       "    <tr>\n",
       "      <th>6</th>\n",
       "      <td>0.956576</td>\n",
       "      <td>0.566218</td>\n",
       "      <td>16.0</td>\n",
       "      <td>0.884164</td>\n",
       "      <td>50.0</td>\n",
       "      <td>8.0</td>\n",
       "    </tr>\n",
       "    <tr>\n",
       "      <th>7</th>\n",
       "      <td>0.956576</td>\n",
       "      <td>0.566218</td>\n",
       "      <td>16.0</td>\n",
       "      <td>0.884164</td>\n",
       "      <td>100.0</td>\n",
       "      <td>8.0</td>\n",
       "    </tr>\n",
       "    <tr>\n",
       "      <th>8</th>\n",
       "      <td>0.956576</td>\n",
       "      <td>0.566218</td>\n",
       "      <td>16.0</td>\n",
       "      <td>0.884164</td>\n",
       "      <td>500.0</td>\n",
       "      <td>8.0</td>\n",
       "    </tr>\n",
       "    <tr>\n",
       "      <th>9</th>\n",
       "      <td>0.956576</td>\n",
       "      <td>0.566218</td>\n",
       "      <td>-1.0</td>\n",
       "      <td>0.884164</td>\n",
       "      <td>50.0</td>\n",
       "      <td>16.0</td>\n",
       "    </tr>\n",
       "    <tr>\n",
       "      <th>10</th>\n",
       "      <td>0.956576</td>\n",
       "      <td>0.566218</td>\n",
       "      <td>-1.0</td>\n",
       "      <td>0.884164</td>\n",
       "      <td>100.0</td>\n",
       "      <td>16.0</td>\n",
       "    </tr>\n",
       "    <tr>\n",
       "      <th>11</th>\n",
       "      <td>0.956576</td>\n",
       "      <td>0.566218</td>\n",
       "      <td>-1.0</td>\n",
       "      <td>0.884164</td>\n",
       "      <td>500.0</td>\n",
       "      <td>16.0</td>\n",
       "    </tr>\n",
       "    <tr>\n",
       "      <th>12</th>\n",
       "      <td>0.956576</td>\n",
       "      <td>0.566218</td>\n",
       "      <td>8.0</td>\n",
       "      <td>0.884164</td>\n",
       "      <td>50.0</td>\n",
       "      <td>16.0</td>\n",
       "    </tr>\n",
       "    <tr>\n",
       "      <th>13</th>\n",
       "      <td>0.956576</td>\n",
       "      <td>0.566218</td>\n",
       "      <td>8.0</td>\n",
       "      <td>0.884164</td>\n",
       "      <td>100.0</td>\n",
       "      <td>16.0</td>\n",
       "    </tr>\n",
       "    <tr>\n",
       "      <th>14</th>\n",
       "      <td>0.956576</td>\n",
       "      <td>0.566218</td>\n",
       "      <td>8.0</td>\n",
       "      <td>0.884164</td>\n",
       "      <td>500.0</td>\n",
       "      <td>16.0</td>\n",
       "    </tr>\n",
       "    <tr>\n",
       "      <th>15</th>\n",
       "      <td>0.956576</td>\n",
       "      <td>0.566218</td>\n",
       "      <td>16.0</td>\n",
       "      <td>0.884164</td>\n",
       "      <td>50.0</td>\n",
       "      <td>16.0</td>\n",
       "    </tr>\n",
       "    <tr>\n",
       "      <th>16</th>\n",
       "      <td>0.956576</td>\n",
       "      <td>0.566218</td>\n",
       "      <td>16.0</td>\n",
       "      <td>0.884164</td>\n",
       "      <td>100.0</td>\n",
       "      <td>16.0</td>\n",
       "    </tr>\n",
       "    <tr>\n",
       "      <th>17</th>\n",
       "      <td>0.956576</td>\n",
       "      <td>0.566218</td>\n",
       "      <td>16.0</td>\n",
       "      <td>0.884164</td>\n",
       "      <td>500.0</td>\n",
       "      <td>16.0</td>\n",
       "    </tr>\n",
       "    <tr>\n",
       "      <th>18</th>\n",
       "      <td>0.956576</td>\n",
       "      <td>0.566218</td>\n",
       "      <td>-1.0</td>\n",
       "      <td>0.884164</td>\n",
       "      <td>50.0</td>\n",
       "      <td>32.0</td>\n",
       "    </tr>\n",
       "    <tr>\n",
       "      <th>19</th>\n",
       "      <td>0.956576</td>\n",
       "      <td>0.566218</td>\n",
       "      <td>-1.0</td>\n",
       "      <td>0.884164</td>\n",
       "      <td>100.0</td>\n",
       "      <td>32.0</td>\n",
       "    </tr>\n",
       "    <tr>\n",
       "      <th>20</th>\n",
       "      <td>0.956576</td>\n",
       "      <td>0.566218</td>\n",
       "      <td>-1.0</td>\n",
       "      <td>0.884164</td>\n",
       "      <td>500.0</td>\n",
       "      <td>32.0</td>\n",
       "    </tr>\n",
       "    <tr>\n",
       "      <th>21</th>\n",
       "      <td>0.956576</td>\n",
       "      <td>0.566218</td>\n",
       "      <td>8.0</td>\n",
       "      <td>0.884164</td>\n",
       "      <td>50.0</td>\n",
       "      <td>32.0</td>\n",
       "    </tr>\n",
       "    <tr>\n",
       "      <th>22</th>\n",
       "      <td>0.956576</td>\n",
       "      <td>0.566218</td>\n",
       "      <td>8.0</td>\n",
       "      <td>0.884164</td>\n",
       "      <td>100.0</td>\n",
       "      <td>32.0</td>\n",
       "    </tr>\n",
       "    <tr>\n",
       "      <th>23</th>\n",
       "      <td>0.956576</td>\n",
       "      <td>0.566218</td>\n",
       "      <td>8.0</td>\n",
       "      <td>0.884164</td>\n",
       "      <td>500.0</td>\n",
       "      <td>32.0</td>\n",
       "    </tr>\n",
       "    <tr>\n",
       "      <th>24</th>\n",
       "      <td>0.956576</td>\n",
       "      <td>0.566218</td>\n",
       "      <td>16.0</td>\n",
       "      <td>0.884164</td>\n",
       "      <td>50.0</td>\n",
       "      <td>32.0</td>\n",
       "    </tr>\n",
       "    <tr>\n",
       "      <th>25</th>\n",
       "      <td>0.956576</td>\n",
       "      <td>0.566218</td>\n",
       "      <td>16.0</td>\n",
       "      <td>0.884164</td>\n",
       "      <td>100.0</td>\n",
       "      <td>32.0</td>\n",
       "    </tr>\n",
       "    <tr>\n",
       "      <th>26</th>\n",
       "      <td>0.956576</td>\n",
       "      <td>0.566218</td>\n",
       "      <td>16.0</td>\n",
       "      <td>0.884164</td>\n",
       "      <td>500.0</td>\n",
       "      <td>32.0</td>\n",
       "    </tr>\n",
       "  </tbody>\n",
       "</table>\n",
       "</div>"
      ],
      "text/plain": [
       "    group_auc_macro  group_f1_macro  max_depth  minute_auc  n_estimators  \\\n",
       "0          0.956576        0.566218       -1.0    0.884164          50.0   \n",
       "1          0.956576        0.566218       -1.0    0.884164         100.0   \n",
       "2          0.956576        0.566218       -1.0    0.884164         500.0   \n",
       "3          0.956576        0.566218        8.0    0.884164          50.0   \n",
       "4          0.956576        0.566218        8.0    0.884164         100.0   \n",
       "5          0.956576        0.566218        8.0    0.884164         500.0   \n",
       "6          0.956576        0.566218       16.0    0.884164          50.0   \n",
       "7          0.956576        0.566218       16.0    0.884164         100.0   \n",
       "8          0.956576        0.566218       16.0    0.884164         500.0   \n",
       "9          0.956576        0.566218       -1.0    0.884164          50.0   \n",
       "10         0.956576        0.566218       -1.0    0.884164         100.0   \n",
       "11         0.956576        0.566218       -1.0    0.884164         500.0   \n",
       "12         0.956576        0.566218        8.0    0.884164          50.0   \n",
       "13         0.956576        0.566218        8.0    0.884164         100.0   \n",
       "14         0.956576        0.566218        8.0    0.884164         500.0   \n",
       "15         0.956576        0.566218       16.0    0.884164          50.0   \n",
       "16         0.956576        0.566218       16.0    0.884164         100.0   \n",
       "17         0.956576        0.566218       16.0    0.884164         500.0   \n",
       "18         0.956576        0.566218       -1.0    0.884164          50.0   \n",
       "19         0.956576        0.566218       -1.0    0.884164         100.0   \n",
       "20         0.956576        0.566218       -1.0    0.884164         500.0   \n",
       "21         0.956576        0.566218        8.0    0.884164          50.0   \n",
       "22         0.956576        0.566218        8.0    0.884164         100.0   \n",
       "23         0.956576        0.566218        8.0    0.884164         500.0   \n",
       "24         0.956576        0.566218       16.0    0.884164          50.0   \n",
       "25         0.956576        0.566218       16.0    0.884164         100.0   \n",
       "26         0.956576        0.566218       16.0    0.884164         500.0   \n",
       "\n",
       "    num_leaves  \n",
       "0          8.0  \n",
       "1          8.0  \n",
       "2          8.0  \n",
       "3          8.0  \n",
       "4          8.0  \n",
       "5          8.0  \n",
       "6          8.0  \n",
       "7          8.0  \n",
       "8          8.0  \n",
       "9         16.0  \n",
       "10        16.0  \n",
       "11        16.0  \n",
       "12        16.0  \n",
       "13        16.0  \n",
       "14        16.0  \n",
       "15        16.0  \n",
       "16        16.0  \n",
       "17        16.0  \n",
       "18        32.0  \n",
       "19        32.0  \n",
       "20        32.0  \n",
       "21        32.0  \n",
       "22        32.0  \n",
       "23        32.0  \n",
       "24        32.0  \n",
       "25        32.0  \n",
       "26        32.0  "
      ]
     },
     "execution_count": 25,
     "metadata": {},
     "output_type": "execute_result"
    }
   ],
   "source": [
    "# Hyperparameter tuning\n",
    "# Yielding the same results?\n",
    "# Minute_wise AUC: 0.884, Group-wise AUC: 0.957, Group-wise F1: 0.566\n",
    "para = {\n",
    "    'num_leaves': [8, 16, 32],\n",
    "    'max_depth': [-1, 8, 16],\n",
    "    'n_estimators': [50, 100, 500],\n",
    "}\n",
    "res_df = pd.DataFrame()\n",
    "\n",
    "keys, values = zip(*para.items())\n",
    "for v in itertools.product(*values):\n",
    "    experiment = dict(zip(keys, v))\n",
    "    gbm = LGBMClassifier(\n",
    "        boosting_type='gbdt', **experiment, \n",
    "        random_state=123, n_jobs=-1, silent=True)\n",
    "    minute_auc, group_f1_macro, group_auc_macro, res_detail = util.model_evaluation_CV(\n",
    "        mdl, df_train, file_train, feature_col)\n",
    "    experiment.update({\n",
    "        'minute_auc': minute_auc,\n",
    "        'group_f1_macro': group_f1_macro,\n",
    "        'group_auc_macro': group_auc_macro,\n",
    "    })\n",
    "    res_df = res_df.append(experiment, ignore_index=True)\n",
    "\n",
    "res_df"
   ]
  },
  {
   "cell_type": "markdown",
   "metadata": {},
   "source": [
    "# 4. Comparison using cross-validation"
   ]
  },
  {
   "cell_type": "code",
   "execution_count": null,
   "metadata": {
    "ExecuteTime": {
     "end_time": "2020-02-06T16:25:19.040126Z",
     "start_time": "2020-02-06T16:25:19.028739Z"
    }
   },
   "outputs": [],
   "source": [
    "# Define and CV evaluate models with the optimal hyperparameters\n",
    "logreg = LogisticRegression(C=0.05, max_iter=1e4)\n",
    "mlp = MLPClassifier(\n",
    "    hidden_layer_sizes=(32, ) * 6, \n",
    "    max_iter=2000, early_stopping=True, validation_fraction=0.1,\n",
    "    random_state=123)\n",
    "gbm = LGBMClassifier(\n",
    "    boosting_type='gbdt', num_leaves=8, max_depth=8, \n",
    "    learning_rate=0.1, n_estimators=50, \n",
    "    random_state=123, n_jobs=-1, silent=True)\n",
    "\n",
    "importlib.reload(util)\n",
    "mdl_res = []\n",
    "for idx, mdl in enumerate([logreg, mlp, gbm]):\n",
    "    res = util.model_evaluation_CV(mdl, df_train, file_train, feature_col, plot_roc=True)\n",
    "    mdl_res.append(res)\n",
    "\n",
    "with open('../archive/Model_Evaluation.pkl', 'wb') as f:\n",
    "    pickle.dump(mdl_res, f)"
   ]
  },
  {
   "cell_type": "code",
   "execution_count": 91,
   "metadata": {
    "ExecuteTime": {
     "end_time": "2020-02-06T21:57:24.760629Z",
     "start_time": "2020-02-06T21:57:24.754612Z"
    }
   },
   "outputs": [
    {
     "name": "stdout",
     "output_type": "stream",
     "text": [
      "*** logreg result ***\n",
      "Minute AUC: 0.888, Group AUC (A vs rest): 0.953, Group best F1: 0.715\n",
      "*** mlp result ***\n",
      "Minute AUC: 0.899, Group AUC (A vs rest): 0.957, Group best F1: 0.727\n",
      "*** gbm result ***\n",
      "Minute AUC: 0.888, Group AUC (A vs rest): 0.957, Group best F1: 0.735\n"
     ]
    }
   ],
   "source": [
    "for res, mdl_name in zip(mdl_res, ['logreg', 'mlp', 'gbm']):\n",
    "    print(f'*** {mdl_name} result ***')\n",
    "    print(f\"Minute AUC: {res['minute_auc_mean']:.3f}, \"\n",
    "          f\"Group AUC (A vs rest): {res['group_auc']:.3f}, \"\n",
    "          f\"Group best F1: {res['group_f1_best']:.3f}\")"
   ]
  },
  {
   "cell_type": "code",
   "execution_count": 58,
   "metadata": {
    "ExecuteTime": {
     "end_time": "2020-02-06T17:40:50.713280Z",
     "start_time": "2020-02-06T17:40:50.178931Z"
    }
   },
   "outputs": [
    {
     "data": {
      "image/png": "[encoded data removed]",
      "text/plain": [
       "<Figure size 252x216 with 1 Axes>"
      ]
     },
     "metadata": {
      "needs_background": "light"
     },
     "output_type": "display_data"
    }
   ],
   "source": [
    "fig = plt.figure(figsize=(3.5, 3))\n",
    "for idx, label in enumerate(['Logistic Regression', 'Multilayer Perceptron', 'Light GBM']):\n",
    "    fpr = mdl_res[idx]['multiclass_auc']['fpr_A']\n",
    "    tpr = mdl_res[idx]['multiclass_auc']['tpr_A']\n",
    "#     plt.plot(fpr, tpr, label=f'{label} (auc={metrics.auc(fpr, tpr):.3f})')\n",
    "    plt.plot(fpr, tpr, label=label)\n",
    "\n",
    "plt.plot([0, 1], [0, 1], 'r--', label='Chance')\n",
    "plt.xlabel('False Positive Rate', size=12)\n",
    "plt.ylabel('True Positive Rate', size=12)\n",
    "plt.title('ROC for Severe vs. Rest', size=12)\n",
    "plt.legend()\n",
    "plt.tight_layout()\n",
    "plt.savefig('../archive/Model_Group_ROC.png', dpi=600)"
   ]
  },
  {
   "cell_type": "code",
   "execution_count": 68,
   "metadata": {
    "ExecuteTime": {
     "end_time": "2020-02-06T17:43:12.442874Z",
     "start_time": "2020-02-06T17:43:11.904125Z"
    }
   },
   "outputs": [
    {
     "data": {
      "image/png": "[encoded data removed]",
      "text/plain": [
       "<Figure size 252x216 with 1 Axes>"
      ]
     },
     "metadata": {
      "needs_background": "light"
     },
     "output_type": "display_data"
    }
   ],
   "source": [
    "fig = plt.figure(figsize=(3.5, 3))\n",
    "for idx, label in enumerate(['Logistic Regression', 'Multilayer Perceptron', 'Light GBM']):\n",
    "    fpr = mdl_res[idx]['mean_fpr_minute']\n",
    "    tpr = mdl_res[idx]['mean_tpr_minute']\n",
    "#     plt.plot(fpr, tpr, label=f'{label} (auc={metrics.auc(fpr, tpr):.3f})')\n",
    "    plt.plot(fpr, tpr, label=label)\n",
    "\n",
    "plt.plot([0, 1], [0, 1], 'r--', label='Chance')\n",
    "plt.xlabel('False Positive Rate', size=12)\n",
    "plt.ylabel('True Positive Rate', size=12)\n",
    "plt.title('ROC for Minute-wise Prediction', size=12)\n",
    "plt.legend()\n",
    "plt.tight_layout()\n",
    "plt.savefig('../archive/Model_Minute_ROC.png', dpi=600)"
   ]
  },
  {
   "cell_type": "code",
   "execution_count": 11,
   "metadata": {
    "ExecuteTime": {
     "end_time": "2020-02-07T03:48:50.028274Z",
     "start_time": "2020-02-07T03:48:49.708103Z"
    }
   },
   "outputs": [
    {
     "data": {
      "image/png": "[encoded data removed]",
      "text/plain": [
       "<Figure size 252x216 with 1 Axes>"
      ]
     },
     "metadata": {
      "needs_background": "light"
     },
     "output_type": "display_data"
    }
   ],
   "source": [
    "fig = plt.figure(figsize=(3.5, 3))\n",
    "fpr = mdl_res[0]['mean_fpr_minute']\n",
    "tpr = mdl_res[0]['mean_tpr_minute']\n",
    "plt.plot(fpr, tpr)\n",
    "\n",
    "plt.plot([0, 1], [0, 1], 'r--', label='Chance')\n",
    "plt.xlabel('False Positive Rate', size=12)\n",
    "plt.ylabel('True Positive Rate', size=12)\n",
    "# plt.title('ROC for Minute-wise Prediction', size=12)\n",
    "# plt.legend()\n",
    "plt.tight_layout()\n",
    "plt.savefig('../archive/Model_Minute_ROC_LogReg.png', dpi=600)"
   ]
  },
  {
   "cell_type": "code",
   "execution_count": 71,
   "metadata": {
    "ExecuteTime": {
     "end_time": "2020-02-06T21:48:32.671970Z",
     "start_time": "2020-02-06T21:48:32.665994Z"
    }
   },
   "outputs": [
    {
     "data": {
      "text/plain": [
       "0.61"
      ]
     },
     "execution_count": 71,
     "metadata": {},
     "output_type": "execute_result"
    }
   ],
   "source": [
    "mdl_res[0]['thres_best']"
   ]
  },
  {
   "cell_type": "markdown",
   "metadata": {},
   "source": [
    "# 5. Testing performance"
   ]
  },
  {
   "cell_type": "code",
   "execution_count": 42,
   "metadata": {
    "ExecuteTime": {
     "end_time": "2020-02-07T20:15:49.167326Z",
     "start_time": "2020-02-07T20:15:48.056929Z"
    }
   },
   "outputs": [
    {
     "data": {
      "text/plain": [
       "LogisticRegression(C=0.05, class_weight=None, dual=False, fit_intercept=True,\n",
       "                   intercept_scaling=1, l1_ratio=None, max_iter=10000.0,\n",
       "                   multi_class='auto', n_jobs=None, penalty='l2',\n",
       "                   random_state=None, solver='lbfgs', tol=0.0001, verbose=0,\n",
       "                   warm_start=False)"
      ]
     },
     "execution_count": 42,
     "metadata": {},
     "output_type": "execute_result"
    }
   ],
   "source": [
    "# Model fitting using the whole training set\n",
    "scaler = preprocessing.StandardScaler().fit(df_train[feature_col])\n",
    "mdl=LogisticRegression(C=0.05, max_iter=1e4)\n",
    "mdl.fit(scaler.transform(df_train[feature_col]), df_train['apn'])"
   ]
  },
  {
   "cell_type": "code",
   "execution_count": 43,
   "metadata": {
    "ExecuteTime": {
     "end_time": "2020-02-07T20:18:41.668257Z",
     "start_time": "2020-02-07T20:18:41.650302Z"
    }
   },
   "outputs": [],
   "source": [
    "res = {'mdl': mdl, 'scaler': scaler}\n",
    "with open('../resources/model_logreg.pkl', 'wb') as f:\n",
    "    pickle.dump(res, f)"
   ]
  },
  {
   "cell_type": "markdown",
   "metadata": {},
   "source": [
    "## Group-wise performance"
   ]
  },
  {
   "cell_type": "code",
   "execution_count": 17,
   "metadata": {
    "ExecuteTime": {
     "end_time": "2020-02-07T17:43:48.182060Z",
     "start_time": "2020-02-07T17:43:47.855207Z"
    }
   },
   "outputs": [
    {
     "name": "stdout",
     "output_type": "stream",
     "text": [
      "              precision    recall  f1-score   support\n",
      "\n",
      "           A       0.83      0.71      0.77         7\n",
      "           B       0.67      0.67      0.67         3\n",
      "           C       0.80      1.00      0.89         4\n",
      "\n",
      "    accuracy                           0.79        14\n",
      "   macro avg       0.77      0.79      0.77        14\n",
      "weighted avg       0.79      0.79      0.78        14\n",
      "\n"
     ]
    },
    {
     "data": {
      "image/png": "[encoded data removed]",
      "text/plain": [
       "<Figure size 288x252 with 1 Axes>"
      ]
     },
     "metadata": {
      "needs_background": "light"
     },
     "output_type": "display_data"
    }
   ],
   "source": [
    "# Evaluation on testing set (Using optimal threshold for group-wise performance)\n",
    "res = util.model_evaluation_test(mdl, df_test, file_test, feature_col, scaler, thres=0.61)\n",
    "\n",
    "# Plot confusion matrix\n",
    "class_names = ['Severe', 'Moderate', 'Normal']\n",
    "df_cm = pd.DataFrame(\n",
    "    metrics.confusion_matrix(res['group_res']['true'], res['group_res']['pred']),\n",
    "    index=class_names, columns=class_names, \n",
    ")\n",
    "fig = plt.figure(figsize=(4, 3.5))\n",
    "heatmap = sns.heatmap(df_cm, annot=True, fmt=\"d\", cbar=False, cmap='Blues')\n",
    "heatmap.yaxis.set_ticklabels(heatmap.yaxis.get_ticklabels(), rotation=0, fontsize=12)\n",
    "heatmap.xaxis.set_ticklabels(heatmap.xaxis.get_ticklabels(), rotation=0, fontsize=12)\n",
    "plt.ylabel('True label', size=14)\n",
    "plt.xlabel('Predicted label', size=14)\n",
    "plt.tight_layout()\n",
    "# plt.savefig('../archive/Model_CM_group.png', dpi=300)\n",
    "\n",
    "# Print classification report\n",
    "print(metrics.classification_report(res['group_res']['true'], res['group_res']['pred']))"
   ]
  },
  {
   "cell_type": "code",
   "execution_count": 20,
   "metadata": {
    "ExecuteTime": {
     "end_time": "2020-02-07T17:45:27.272757Z",
     "start_time": "2020-02-07T17:45:27.252785Z"
    }
   },
   "outputs": [
    {
     "data": {
      "text/html": [
       "<div>\n",
       "<style scoped>\n",
       "    .dataframe tbody tr th:only-of-type {\n",
       "        vertical-align: middle;\n",
       "    }\n",
       "\n",
       "    .dataframe tbody tr th {\n",
       "        vertical-align: top;\n",
       "    }\n",
       "\n",
       "    .dataframe thead th {\n",
       "        text-align: right;\n",
       "    }\n",
       "</style>\n",
       "<table border=\"1\" class=\"dataframe\">\n",
       "  <thead>\n",
       "    <tr style=\"text-align: right;\">\n",
       "      <th></th>\n",
       "      <th>true</th>\n",
       "      <th>pred</th>\n",
       "    </tr>\n",
       "    <tr>\n",
       "      <th>file</th>\n",
       "      <th></th>\n",
       "      <th></th>\n",
       "    </tr>\n",
       "  </thead>\n",
       "  <tbody>\n",
       "    <tr>\n",
       "      <th>b09</th>\n",
       "      <td>Moderate</td>\n",
       "      <td>Moderate</td>\n",
       "    </tr>\n",
       "    <tr>\n",
       "      <th>a12</th>\n",
       "      <td>Severe</td>\n",
       "      <td>Severe</td>\n",
       "    </tr>\n",
       "    <tr>\n",
       "      <th>c07</th>\n",
       "      <td>Normal</td>\n",
       "      <td>Normal</td>\n",
       "    </tr>\n",
       "    <tr>\n",
       "      <th>a09</th>\n",
       "      <td>Severe</td>\n",
       "      <td>Moderate</td>\n",
       "    </tr>\n",
       "    <tr>\n",
       "      <th>c04</th>\n",
       "      <td>Normal</td>\n",
       "      <td>Normal</td>\n",
       "    </tr>\n",
       "    <tr>\n",
       "      <th>a13</th>\n",
       "      <td>Severe</td>\n",
       "      <td>Severe</td>\n",
       "    </tr>\n",
       "    <tr>\n",
       "      <th>a10</th>\n",
       "      <td>Moderate</td>\n",
       "      <td>Moderate</td>\n",
       "    </tr>\n",
       "    <tr>\n",
       "      <th>a06</th>\n",
       "      <td>Severe</td>\n",
       "      <td>Normal</td>\n",
       "    </tr>\n",
       "    <tr>\n",
       "      <th>b10</th>\n",
       "      <td>Moderate</td>\n",
       "      <td>Severe</td>\n",
       "    </tr>\n",
       "    <tr>\n",
       "      <th>c18</th>\n",
       "      <td>Normal</td>\n",
       "      <td>Normal</td>\n",
       "    </tr>\n",
       "    <tr>\n",
       "      <th>a16</th>\n",
       "      <td>Severe</td>\n",
       "      <td>Severe</td>\n",
       "    </tr>\n",
       "    <tr>\n",
       "      <th>a38</th>\n",
       "      <td>Severe</td>\n",
       "      <td>Severe</td>\n",
       "    </tr>\n",
       "    <tr>\n",
       "      <th>c20</th>\n",
       "      <td>Normal</td>\n",
       "      <td>Normal</td>\n",
       "    </tr>\n",
       "    <tr>\n",
       "      <th>a01</th>\n",
       "      <td>Severe</td>\n",
       "      <td>Severe</td>\n",
       "    </tr>\n",
       "  </tbody>\n",
       "</table>\n",
       "</div>"
      ],
      "text/plain": [
       "          true      pred\n",
       "file                    \n",
       "b09   Moderate  Moderate\n",
       "a12     Severe    Severe\n",
       "c07     Normal    Normal\n",
       "a09     Severe  Moderate\n",
       "c04     Normal    Normal\n",
       "a13     Severe    Severe\n",
       "a10   Moderate  Moderate\n",
       "a06     Severe    Normal\n",
       "b10   Moderate    Severe\n",
       "c18     Normal    Normal\n",
       "a16     Severe    Severe\n",
       "a38     Severe    Severe\n",
       "c20     Normal    Normal\n",
       "a01     Severe    Severe"
      ]
     },
     "execution_count": 20,
     "metadata": {},
     "output_type": "execute_result"
    }
   ],
   "source": [
    "res['group_res'].drop(['neg', 'pos'], axis=1).replace({'A': 'Severe', 'B': 'Moderate', 'C': 'Normal'})"
   ]
  },
  {
   "cell_type": "markdown",
   "metadata": {
    "ExecuteTime": {
     "end_time": "2020-02-07T04:13:48.729547Z",
     "start_time": "2020-02-07T04:13:48.350561Z"
    }
   },
   "source": [
    "## Minute-wise performance"
   ]
  },
  {
   "cell_type": "code",
   "execution_count": 31,
   "metadata": {
    "ExecuteTime": {
     "end_time": "2020-02-07T04:13:48.729547Z",
     "start_time": "2020-02-07T04:13:48.350561Z"
    }
   },
   "outputs": [
    {
     "name": "stdout",
     "output_type": "stream",
     "text": [
      "              precision    recall  f1-score   support\n",
      "\n",
      "           0       0.82      0.90      0.86      3988\n",
      "           1       0.83      0.71      0.76      2693\n",
      "\n",
      "    accuracy                           0.82      6681\n",
      "   macro avg       0.82      0.80      0.81      6681\n",
      "weighted avg       0.82      0.82      0.82      6681\n",
      "\n"
     ]
    },
    {
     "data": {
      "image/png": "[encoded data removed]",
      "text/plain": [
       "<Figure size 216x216 with 2 Axes>"
      ]
     },
     "metadata": {
      "needs_background": "light"
     },
     "output_type": "display_data"
    }
   ],
   "source": [
    "disp = metrics.plot_confusion_matrix(\n",
    "    mdl, scaler.transform(df_test[feature_col]), df_test['apn'],\n",
    "    display_labels=['Non-\\napnea', 'Apnea'],\n",
    "    cmap=plt.cm.Blues, include_values=False,\n",
    "    normalize='true')\n",
    "disp.figure_.set_size_inches((3, 3))\n",
    "plt.tight_layout()\n",
    "plt.savefig('../archive/Model_CM_minute.png', dpi=600)\n",
    "\n",
    "print(metrics.classification_report(df_test['apn'], mdl.predict(scaler.transform(df_test[feature_col]))))"
   ]
  },
  {
   "cell_type": "markdown",
   "metadata": {},
   "source": [
    "# 6. Comparison of testing performance"
   ]
  },
  {
   "cell_type": "code",
   "execution_count": 21,
   "metadata": {
    "ExecuteTime": {
     "end_time": "2020-02-07T17:57:36.738103Z",
     "start_time": "2020-02-07T17:57:23.019225Z"
    }
   },
   "outputs": [
    {
     "name": "stdout",
     "output_type": "stream",
     "text": [
      "*** Logistic Regression ***\n",
      "              precision    recall  f1-score   support\n",
      "\n",
      "           0       0.82      0.90      0.86      3988\n",
      "           1       0.83      0.71      0.76      2693\n",
      "\n",
      "    accuracy                           0.82      6681\n",
      "   macro avg       0.82      0.80      0.81      6681\n",
      "weighted avg       0.82      0.82      0.82      6681\n",
      "\n",
      "*** MLP ***\n",
      "              precision    recall  f1-score   support\n",
      "\n",
      "           0       0.83      0.89      0.86      3988\n",
      "           1       0.82      0.73      0.77      2693\n",
      "\n",
      "    accuracy                           0.83      6681\n",
      "   macro avg       0.82      0.81      0.82      6681\n",
      "weighted avg       0.83      0.83      0.82      6681\n",
      "\n",
      "*** Light GBM ***\n",
      "              precision    recall  f1-score   support\n",
      "\n",
      "           0       0.82      0.88      0.85      3988\n",
      "           1       0.80      0.71      0.75      2693\n",
      "\n",
      "    accuracy                           0.81      6681\n",
      "   macro avg       0.81      0.79      0.80      6681\n",
      "weighted avg       0.81      0.81      0.81      6681\n",
      "\n"
     ]
    }
   ],
   "source": [
    "# Define and CV evaluate models with the optimal hyperparameters\n",
    "logreg = LogisticRegression(C=0.05, max_iter=1e4)\n",
    "mlp = MLPClassifier(\n",
    "    hidden_layer_sizes=(32, ) * 6, \n",
    "    max_iter=2000, early_stopping=True, validation_fraction=0.1,\n",
    "    random_state=123)\n",
    "gbm = LGBMClassifier(\n",
    "    boosting_type='gbdt', num_leaves=8, max_depth=8, \n",
    "    learning_rate=0.1, n_estimators=50, \n",
    "    random_state=123, n_jobs=-1, silent=True)\n",
    "\n",
    "for mdl_name, mdl in zip(['Logistic Regression', 'MLP', 'Light GBM'], [logreg, mlp, gbm]):\n",
    "    scaler = preprocessing.StandardScaler().fit(df_train[feature_col])\n",
    "    mdl.fit(scaler.transform(df_train[feature_col]), df_train['apn'])\n",
    "    print(f'*** {mdl_name} ***')\n",
    "    print(metrics.classification_report(\n",
    "        df_test['apn'],\n",
    "        mdl.predict(scaler.transform(df_test[feature_col]))\n",
    "         ))"
   ]
  },
  {
   "cell_type": "code",
   "execution_count": 41,
   "metadata": {
    "ExecuteTime": {
     "end_time": "2020-02-07T18:27:29.602545Z",
     "start_time": "2020-02-07T18:27:29.188649Z"
    }
   },
   "outputs": [
    {
     "data": {
      "image/png": "[encoded data removed]",
      "text/plain": [
       "<Figure size 288x216 with 1 Axes>"
      ]
     },
     "metadata": {
      "needs_background": "light"
     },
     "output_type": "display_data"
    }
   ],
   "source": [
    "plt.figure(figsize=(4, 3))\n",
    "plt.barh(np.arange(3, 0, -1), [0.86, 0.85, 0.84], height=0.5)\n",
    "plt.barh([4], [0.82], height=0.5, color='r')\n",
    "plt.yticks(\n",
    "    [4, 3, 2, 1], \n",
    "    labels=[\n",
    "        'Logistic\\nRegression', \n",
    "        'Multilayer\\nPerceptron',\n",
    "        'Light GBM',\n",
    "        'SqueezeNet'],\n",
    "    )\n",
    "plt.ylim([0.4, 4.6])\n",
    "plt.xlabel('Accuracy')\n",
    "plt.tight_layout()\n",
    "plt.savefig('../archive/Model_Minute_Accuracy.png', dpi=600)"
   ]
  },
  {
   "cell_type": "code",
   "execution_count": null,
   "metadata": {},
   "outputs": [],
   "source": [
    "# Backup block for sample visualization\n",
    "\n",
    "\n",
    "file = 'a15'\n",
    "with open('../HR_data/' + file + '.pkl', 'rb') as f:\n",
    "    data = pickle.load(f)\n",
    "\n",
    "b, a = signal.butter(3, 0.1)\n",
    "t, hr = data['t'], data['hr']\n",
    "idx_valid = (hr < 2) & (hr > 0.5)\n",
    "hr, t = hr[idx_valid], t[idx_valid]\n",
    "hr_smth = signal.filtfilt(b, a, hr)\n",
    "\n",
    "res = np.transpose(seg_pred[file])\n",
    "assert res.shape[0] == np.ceil(t[-1]) - 4\n",
    "\n",
    "select_num = 3\n",
    "\n",
    "plt.figure(figsize=(16, 12))\n",
    "for case in range(4):\n",
    "    if case == 0:\n",
    "        val = [1, 0]\n",
    "        label = 'False Negative'\n",
    "    elif case == 1:\n",
    "        val = [0, 1]\n",
    "        label = 'False Positive'\n",
    "    elif case == 2:\n",
    "        val = [1, 1]\n",
    "        label = 'True Positive'\n",
    "    elif case == 3:\n",
    "        val = [0, 0]\n",
    "        label = 'True Negative'\n",
    "        \n",
    "    idx = np.where((res == val).all(axis=1))[0]\n",
    "    idx_plot = np.random.choice(idx, select_num)\n",
    "    \n",
    "    plt.subplot(2, 2, case + 1)\n",
    "    for idx in idx_plot:\n",
    "        idx_t = (t > idx) & (t < idx + 5)\n",
    "        plt.plot(t[idx_t] - idx, hr_smth[idx_t])\n",
    "        \n",
    "    plt.title(label)\n",
    "    plt.xlabel('minute')\n",
    "    plt.ylabel('HR')\n",
    "    \n",
    "plt.show()"
   ]
  }
 ],
 "metadata": {
  "kernelspec": {
   "display_name": "Python 3",
   "language": "python",
   "name": "python3"
  },
  "language_info": {
   "codemirror_mode": {
    "name": "ipython",
    "version": 3
   },
   "file_extension": ".py",
   "mimetype": "text/x-python",
   "name": "python",
   "nbconvert_exporter": "python",
   "pygments_lexer": "ipython3",
   "version": "3.8.1"
  },
  "toc": {
   "base_numbering": 1,
   "nav_menu": {},
   "number_sections": false,
   "sideBar": true,
   "skip_h1_title": false,
   "title_cell": "Table of Contents",
   "title_sidebar": "Contents",
   "toc_cell": false,
   "toc_position": {},
   "toc_section_display": true,
   "toc_window_display": true
  },
  "varInspector": {
   "cols": {
    "lenName": 16,
    "lenType": 16,
    "lenVar": 40
   },
   "kernels_config": {
    "python": {
     "delete_cmd_postfix": "",
     "delete_cmd_prefix": "del ",
     "library": "var_list.py",
     "varRefreshCmd": "print(var_dic_list())"
    },
    "r": {
     "delete_cmd_postfix": ") ",
     "delete_cmd_prefix": "rm(",
     "library": "var_list.r",
     "varRefreshCmd": "cat(var_dic_list()) "
    }
   },
   "types_to_exclude": [
    "module",
    "function",
    "builtin_function_or_method",
    "instance",
    "_Feature"
   ],
   "window_display": false
  }
 },
 "nbformat": 4,
 "nbformat_minor": 4
}
