{
 "cells": [
  {
   "cell_type": "code",
   "execution_count": 1,
   "metadata": {
    "ExecuteTime": {
     "end_time": "2020-02-03T21:40:24.519637Z",
     "start_time": "2020-02-03T21:40:23.105942Z"
    }
   },
   "outputs": [],
   "source": [
    "import numpy as np\n",
    "import pandas as pd\n",
    "import pickle\n",
    "from lightgbm import LGBMClassifier\n",
    "\n",
    "from sklearn import preprocessing\n",
    "from sklearn.dummy import DummyClassifier\n",
    "from sklearn.model_selection import StratifiedKFold, train_test_split\n",
    "from sklearn import metrics\n",
    "\n",
    "import matplotlib.pyplot as plt\n",
    "from matplotlib import style\n",
    "\n",
    "import util\n",
    "# style.use('dark_background')\n",
    "pd.options.display.max_columns = 999"
   ]
  },
  {
   "cell_type": "code",
   "execution_count": 2,
   "metadata": {
    "ExecuteTime": {
     "end_time": "2020-02-03T21:40:36.816329Z",
     "start_time": "2020-02-03T21:40:36.552920Z"
    }
   },
   "outputs": [],
   "source": [
    "df = pd.read_csv('../features/feature_train.csv')\n",
    "train_df = pd.read_csv('../resources/File_train.csv')\n",
    "feature_col = df.drop(labels=['apn', 'group', 'file'], axis=1).columns"
   ]
  },
  {
   "cell_type": "code",
   "execution_count": 3,
   "metadata": {
    "ExecuteTime": {
     "end_time": "2020-02-03T21:40:58.290296Z",
     "start_time": "2020-02-03T21:40:55.904707Z"
    }
   },
   "outputs": [
    {
     "name": "stdout",
     "output_type": "stream",
     "text": [
      "0.937 for training, 0.801 for validation\n"
     ]
    }
   ],
   "source": [
    "gbm = LGBMClassifier(\n",
    "    boosting_type='gbdt', num_leaves=31, max_depth=-1, \n",
    "    learning_rate=0.1, n_estimators=100, subsample_for_bin=200000, \n",
    "    class_weight=None, min_split_gain=0.0, \n",
    "    min_child_weight=0.001, min_child_samples=20, subsample=1.0, \n",
    "    subsample_freq=0, colsample_bytree=1.0, reg_alpha=0.0, reg_lambda=0.0, \n",
    "    random_state=123, n_jobs=-1, silent=True, importance_type='split')\n",
    "\n",
    "acc_train, acc_val, _ = util.model_evaluation_CV(gbm, df, train_df, feature_col, normalize=True, n=4)\n",
    "print(f'{acc_train:.3f} for training, {acc_val:.3f} for validation')\n"
   ]
  },
  {
   "cell_type": "code",
   "execution_count": 7,
   "metadata": {
    "ExecuteTime": {
     "end_time": "2020-02-03T21:42:40.980815Z",
     "start_time": "2020-02-03T21:42:32.802702Z"
    }
   },
   "outputs": [
    {
     "name": "stdout",
     "output_type": "stream",
     "text": [
      "0.973 for training, 0.807 for validation\n"
     ]
    }
   ],
   "source": [
    "gbm = LGBMClassifier(\n",
    "    boosting_type='gbdt', num_leaves=60, max_depth=10, \n",
    "    learning_rate=0.1, n_estimators=1000, subsample_for_bin=200, \n",
    "    class_weight=None, min_split_gain=0.0, \n",
    "    min_child_weight=0.001, min_child_samples=20, subsample=0.5, \n",
    "    subsample_freq=10, colsample_bytree=0.5, reg_alpha=10, reg_lambda=10, \n",
    "    random_state=123, n_jobs=4, silent=True, importance_type='split')\n",
    "\n",
    "acc_train, acc_val, _ = util.model_evaluation_CV(gbm, df, train_df, feature_col, normalize=True, n=4)\n",
    "print(f'{acc_train:.3f} for training, {acc_val:.3f} for validation')\n"
   ]
  },
  {
   "cell_type": "code",
   "execution_count": null,
   "metadata": {},
   "outputs": [],
   "source": []
  }
 ],
 "metadata": {
  "kernelspec": {
   "display_name": "Python 3",
   "language": "python",
   "name": "python3"
  },
  "language_info": {
   "codemirror_mode": {
    "name": "ipython",
    "version": 3
   },
   "file_extension": ".py",
   "mimetype": "text/x-python",
   "name": "python",
   "nbconvert_exporter": "python",
   "pygments_lexer": "ipython3",
   "version": "3.8.1"
  },
  "toc": {
   "base_numbering": 1,
   "nav_menu": {},
   "number_sections": true,
   "sideBar": true,
   "skip_h1_title": false,
   "title_cell": "Table of Contents",
   "title_sidebar": "Contents",
   "toc_cell": false,
   "toc_position": {},
   "toc_section_display": true,
   "toc_window_display": false
  },
  "varInspector": {
   "cols": {
    "lenName": 16,
    "lenType": 16,
    "lenVar": 40
   },
   "kernels_config": {
    "python": {
     "delete_cmd_postfix": "",
     "delete_cmd_prefix": "del ",
     "library": "var_list.py",
     "varRefreshCmd": "print(var_dic_list())"
    },
    "r": {
     "delete_cmd_postfix": ") ",
     "delete_cmd_prefix": "rm(",
     "library": "var_list.r",
     "varRefreshCmd": "cat(var_dic_list()) "
    }
   },
   "types_to_exclude": [
    "module",
    "function",
    "builtin_function_or_method",
    "instance",
    "_Feature"
   ],
   "window_display": false
  }
 },
 "nbformat": 4,
 "nbformat_minor": 2
}
