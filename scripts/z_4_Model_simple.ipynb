{
 "cells": [
  {
   "cell_type": "code",
   "execution_count": 1,
   "metadata": {
    "ExecuteTime": {
     "end_time": "2020-02-06T03:41:42.090291Z",
     "start_time": "2020-02-06T03:41:40.755660Z"
    }
   },
   "outputs": [],
   "source": [
    "import numpy as np\n",
    "import pandas as pd\n",
    "import pickle\n",
    "\n",
    "import matplotlib.pyplot as plt\n",
    "from matplotlib import style\n",
    "# style.use('dark_background')\n",
    "\n",
    "from sklearn import preprocessing\n",
    "from sklearn.linear_model import LogisticRegression\n",
    "from sklearn.svm import LinearSVC\n",
    "from sklearn.dummy import DummyClassifier\n",
    "from sklearn.model_selection import StratifiedKFold, train_test_split\n",
    "from sklearn.feature_selection import SelectFromModel\n",
    "from sklearn import metrics\n",
    "\n",
    "import util"
   ]
  },
  {
   "cell_type": "code",
   "execution_count": null,
   "metadata": {},
   "outputs": [],
   "source": [
    "def model_evaluation_CV(mdl, df, train_df, feature_col, n=4,\n",
    "    normalize=True, detail_pred=False, plot_roc=False):\n",
    "    # Evaluate model accuracy using Stratified K-fold CV\n",
    "    # Note: Stratification is based on patient group (A, B, C), and then samples are formed\n",
    "    skf = StratifiedKFold(n_splits=n)\n",
    "    acc_train, acc_val = [], []\n",
    "\n",
    "    if detail_pred:\n",
    "        patient_pred = train_df.copy(deep=True).set_index('file')\n",
    "        patient_pred.rename(columns={'group': 'true'}, inplace=True)\n",
    "        seg_pred = {}\n",
    "\n",
    "    if plot_roc:\n",
    "        tprs, aucs = [], []\n",
    "        mean_fpr = np.linspace(0, 1, 100)\n",
    "        _, ax = plt.subplots()\n",
    "    \n",
    "    for idx_train, idx_val in skf.split(train_df, train_df['group']):\n",
    "        file_train, file_val = train_df.loc[idx_train, 'file'], train_df.loc[idx_val, 'file']\n",
    "        X_train, y_train = df.loc[df.file.isin(file_train), feature_col], df.loc[df.file.isin(file_train), 'apn']\n",
    "        X_val, y_val = df.loc[df.file.isin(file_val), feature_col], df.loc[df.file.isin(file_val), 'apn']\n",
    "        \n",
    "        if normalize:\n",
    "            scaler = preprocessing.StandardScaler().fit(X_train)\n",
    "            X_train = scaler.transform(X_train)\n",
    "            X_val = scaler.transform(X_val)\n",
    "\n",
    "        mdl.fit(X_train, y_train)\n",
    "        acc_train.append(metrics.accuracy_score(y_train, mdl.predict(X_train)))\n",
    "        acc_val.append(metrics.accuracy_score(y_val, mdl.predict(X_val)))\n",
    "        \n",
    "        if plot_roc:\n",
    "            viz = metrics.plot_roc_curve(mdl, X_val, y_val,\n",
    "                                alpha=0.3, lw=1, ax=ax)\n",
    "            interp_tpr = interp(mean_fpr, viz.fpr, viz.tpr)\n",
    "            interp_tpr[0] = 0.0\n",
    "            tprs.append(interp_tpr)\n",
    "            aucs.append(viz.roc_auc)\n",
    "            \n",
    "        # Accuracy for group diagnosis\n",
    "        if detail_pred:\n",
    "            for file in file_val:\n",
    "                X_val, y_val = df.loc[df.file.isin([file]), feature_col], df.loc[df.file.isin([file]), 'apn']\n",
    "                X_val = scaler.transform(X_val) if normalize else X_val\n",
    "                y_pred = mdl.predict(X_val)\n",
    "                y_pred_prob = mdl.predict_proba(X_val)\n",
    "                patient_pred.loc[file,'pred']=ecg_diagnose(y_pred)\n",
    "                seg_pred[file] = np.vstack((y_val, y_pred, y_pred_prob[:, 1]))\n",
    "    \n",
    "    if plot_roc:        \n",
    "        ax.plot([0, 1], [0, 1], linestyle='--', lw=2, color='r',\n",
    "                label='Chance', alpha=.8)\n",
    "\n",
    "        mean_tpr = np.mean(tprs, axis=0)\n",
    "        mean_tpr[-1] = 1.0\n",
    "        mean_auc = metrics.auc(mean_fpr, mean_tpr)\n",
    "        std_auc = np.std(aucs)\n",
    "        ax.plot(mean_fpr, mean_tpr, color='b',\n",
    "                label=r'Mean ROC (AUC = %0.2f $\\pm$ %0.2f)' % (mean_auc, std_auc),\n",
    "                lw=2, alpha=.8)\n",
    "\n",
    "        std_tpr = np.std(tprs, axis=0)\n",
    "        tprs_upper = np.minimum(mean_tpr + std_tpr, 1)\n",
    "        tprs_lower = np.maximum(mean_tpr - std_tpr, 0)\n",
    "        ax.fill_between(mean_fpr, tprs_lower, tprs_upper, color='grey', alpha=.2,\n",
    "                        label=r'$\\pm$ 1 std. dev.')\n",
    "\n",
    "        ax.set(xlim=[-0.05, 1.05], ylim=[-0.05, 1.05])\n",
    "        ax.legend(loc=\"lower right\")\n",
    "        plt.show()\n",
    "\n",
    "    res_detail = {}\n",
    "    if detail_pred:\n",
    "        res_detail['patient_pred'] = patient_pred\n",
    "        res_detail['seg_pred'] = seg_pred\n",
    "    if plot_roc:\n",
    "        res_detail['mean_fpr'] = mean_fpr\n",
    "        res_detail['mean_tpr'] = mean_tpr\n",
    "        res_detail['mean_auc'] = mean_auc\n",
    "    \n",
    "    return np.mean(acc_train), np.mean(acc_val), res_detail\n"
   ]
  },
  {
   "cell_type": "code",
   "execution_count": 10,
   "metadata": {
    "ExecuteTime": {
     "end_time": "2020-02-06T03:47:40.378587Z",
     "start_time": "2020-02-06T03:47:32.114622Z"
    }
   },
   "outputs": [],
   "source": []
  },
  {
   "cell_type": "code",
   "execution_count": 16,
   "metadata": {
    "ExecuteTime": {
     "end_time": "2020-02-05T23:45:27.925901Z",
     "start_time": "2020-02-05T23:45:27.918905Z"
    }
   },
   "outputs": [
    {
     "name": "stdout",
     "output_type": "stream",
     "text": [
      "0.877913740847086 0.5566261695293954 0.9330078125000001\n"
     ]
    }
   ],
   "source": [
    "print(minute_auc, group_f1_macro, grouop_auc_macro)"
   ]
  },
  {
   "cell_type": "code",
   "execution_count": 13,
   "metadata": {
    "ExecuteTime": {
     "end_time": "2020-02-05T23:43:20.227430Z",
     "start_time": "2020-02-05T23:43:20.135038Z"
    }
   },
   "outputs": [],
   "source": []
  },
  {
   "cell_type": "code",
   "execution_count": 17,
   "metadata": {
    "ExecuteTime": {
     "end_time": "2020-02-05T23:48:59.751684Z",
     "start_time": "2020-02-05T23:48:59.731112Z"
    }
   },
   "outputs": [],
   "source": []
  },
  {
   "cell_type": "code",
   "execution_count": 73,
   "metadata": {
    "ExecuteTime": {
     "end_time": "2020-02-05T22:16:08.595636Z",
     "start_time": "2020-02-05T22:16:08.391212Z"
    }
   },
   "outputs": [
    {
     "data": {
      "image/png": "[encoded data removed]",
      "text/plain": [
       "<Figure size 432x288 with 1 Axes>"
      ]
     },
     "metadata": {
      "needs_background": "light"
     },
     "output_type": "display_data"
    }
   ],
   "source": [
    "plt.plot(multiclass_auc['fpr_A'], multiclass_auc['tpr_A'], label='A')\n",
    "plt.plot(multiclass_auc['fpr_B'], multiclass_auc['tpr_B'], label='B')\n",
    "plt.plot(multiclass_auc['fpr_C'], multiclass_auc['tpr_C'], label='C')\n",
    "plt.legend()\n",
    "plt.show()"
   ]
  },
  {
   "cell_type": "code",
   "execution_count": null,
   "metadata": {},
   "outputs": [],
   "source": []
  },
  {
   "cell_type": "code",
   "execution_count": null,
   "metadata": {},
   "outputs": [],
   "source": []
  },
  {
   "cell_type": "code",
   "execution_count": null,
   "metadata": {},
   "outputs": [],
   "source": []
  },
  {
   "cell_type": "code",
   "execution_count": null,
   "metadata": {},
   "outputs": [],
   "source": []
  },
  {
   "cell_type": "code",
   "execution_count": 3,
   "metadata": {},
   "outputs": [
    {
     "name": "stdout",
     "output_type": "stream",
     "text": [
      "Baseline performance: 0.858 for training, 0.827 for validation\n",
      "With L1 (C=0.01): 0.843 for training, 0.818 for validation\n",
      "With L1 (C=1): 0.858 for training, 0.827 for validation\n",
      "Baseline for Linear SVC: 0.858 for training, 0.827 for validation\n",
      "Linear SVC (C=0.01): 0.853 for training, 0.828 for validation\n"
     ]
    }
   ],
   "source": [
    "# Baseline model\n",
    "logreg_1 = LogisticRegression(solver='lbfgs', max_iter=1e6)\n",
    "acc_train, acc_val = util.model_evaluation_CV(logreg_1, df, train_df, feature_col, normalize=True)\n",
    "print(f'Baseline performance: {acc_train:.3f} for training, {acc_val:.3f} for validation')\n",
    "\n",
    "# Baseline model + L1 (C=0.01)\n",
    "logreg_2 = LogisticRegression(C=0.01, penalty=\"l1\", dual=False, solver='saga', max_iter=1e6)\n",
    "acc_train, acc_val = util.model_evaluation_CV(logreg_2, df, train_df, feature_col, normalize=True)\n",
    "print(f'With L1 (C=0.01): {acc_train:.3f} for training, {acc_val:.3f} for validation')\n",
    "\n",
    "# Baseline model + L1 (C=1)\n",
    "logreg_3 = LogisticRegression(C=1, penalty=\"l1\", dual=False, solver='saga', max_iter=1e6)\n",
    "acc_train, acc_val = util.model_evaluation_CV(logreg_3, df, train_df, feature_col, normalize=True)\n",
    "print(f'With L1 (C=1): {acc_train:.3f} for training, {acc_val:.3f} for validation')\n",
    "\n",
    "# SVC baseline\n",
    "lsvc = LinearSVC(max_iter=1e6)\n",
    "acc_train, acc_val = util.model_evaluation_CV(lsvc, df, train_df, feature_col, normalize=True)\n",
    "print(f'Baseline for Linear SVC: {acc_train:.3f} for training, {acc_val:.3f} for validation')\n",
    "\n",
    "# SVC (C=0.01)\n",
    "lsvc = LinearSVC(C=0.01, penalty=\"l1\", dual=False, max_iter=1e6)\n",
    "acc_train, acc_val = util.model_evaluation_CV(lsvc, df, train_df, feature_col, normalize=True)\n",
    "print(f'Linear SVC (C=0.01): {acc_train:.3f} for training, {acc_val:.3f} for validation')\n"
   ]
  }
 ],
 "metadata": {
  "kernelspec": {
   "display_name": "Python 3",
   "language": "python",
   "name": "python3"
  },
  "language_info": {
   "codemirror_mode": {
    "name": "ipython",
    "version": 3
   },
   "file_extension": ".py",
   "mimetype": "text/x-python",
   "name": "python",
   "nbconvert_exporter": "python",
   "pygments_lexer": "ipython3",
   "version": "3.8.1"
  },
  "toc": {
   "base_numbering": 1,
   "nav_menu": {},
   "number_sections": false,
   "sideBar": true,
   "skip_h1_title": false,
   "title_cell": "Table of Contents",
   "title_sidebar": "Contents",
   "toc_cell": false,
   "toc_position": {},
   "toc_section_display": true,
   "toc_window_display": false
  },
  "varInspector": {
   "cols": {
    "lenName": 16,
    "lenType": 16,
    "lenVar": 40
   },
   "kernels_config": {
    "python": {
     "delete_cmd_postfix": "",
     "delete_cmd_prefix": "del ",
     "library": "var_list.py",
     "varRefreshCmd": "print(var_dic_list())"
    },
    "r": {
     "delete_cmd_postfix": ") ",
     "delete_cmd_prefix": "rm(",
     "library": "var_list.r",
     "varRefreshCmd": "cat(var_dic_list()) "
    }
   },
   "types_to_exclude": [
    "module",
    "function",
    "builtin_function_or_method",
    "instance",
    "_Feature"
   ],
   "window_display": false
  }
 },
 "nbformat": 4,
 "nbformat_minor": 2
}
