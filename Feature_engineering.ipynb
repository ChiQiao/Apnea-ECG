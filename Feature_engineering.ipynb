{
 "cells": [
  {
   "cell_type": "code",
   "execution_count": 1,
   "metadata": {},
   "outputs": [],
   "source": [
    "import numpy as np\n",
    "import pandas as pd\n",
    "import pickle\n",
    "import importlib\n",
    "\n",
    "import matplotlib.pyplot as plt\n",
    "import plotly.graph_objects as go\n",
    "\n",
    "import feature\n",
    "import util"
   ]
  },
  {
   "cell_type": "code",
   "execution_count": 52,
   "metadata": {},
   "outputs": [
    {
     "data": {
      "text/plain": [
       "<module 'feature' from 'C:\\\\Users\\\\joey3\\\\OneDrive\\\\CS_DS\\\\Apnea_ECG\\\\feature.py'>"
      ]
     },
     "execution_count": 52,
     "metadata": {},
     "output_type": "execute_result"
    }
   ],
   "source": [
    "importlib.reload(feature)"
   ]
  },
  {
   "cell_type": "code",
   "execution_count": 78,
   "metadata": {
    "collapsed": true
   },
   "outputs": [
    {
     "name": "stdout",
     "output_type": "stream",
     "text": [
      "a01\n",
      "a02\n",
      "a03\n",
      "a04\n",
      "a05\n",
      "a06\n",
      "a07\n",
      "a08\n",
      "a09\n",
      "a10\n",
      "a11\n",
      "a12\n",
      "a13\n",
      "a14\n",
      "a15\n",
      "a16\n",
      "a17\n",
      "a18\n",
      "a19\n",
      "a20\n",
      "b01\n",
      "b02\n",
      "b03\n",
      "b04\n",
      "b05\n",
      "c01\n",
      "c02\n",
      "c03\n",
      "c04\n",
      "c05\n",
      "c06\n",
      "c07\n",
      "c08\n",
      "c09\n",
      "c10\n"
     ]
    }
   ],
   "source": [
    "file_full = [f'a{i:02d}' for i in range(1, 21)] + \\\n",
    "    [f'b{i:02d}' for i in range(1, 6)] + \\\n",
    "    [f'c{i:02d}' for i in range(1, 11)]\n",
    "\n",
    "for file in file_full:\n",
    "    print(file)\n",
    "    with open('data/raw/' + file + '.pkl', 'rb') as f:\n",
    "        res = pickle.load(f)\n",
    "\n",
    "    total_hour = int(len(res['apn']) / 60) + 1\n",
    "    for hour in range(total_hour):\n",
    "        minute_start = hour * 60\n",
    "        if hour == total_hour - 1:\n",
    "            minute_end = len(res['apn'])\n",
    "        else:\n",
    "            minute_end = (hour + 1) * 60\n",
    "            \n",
    "        fig = util.plot_hr_apn(res, minute_start, minute_end)\n",
    "        fig.write_image('image_HR/' + f'{file}_minute{minute_start}.png',scale=3)"
   ]
  },
  {
   "cell_type": "code",
   "execution_count": 2,
   "metadata": {
    "collapsed": true
   },
   "outputs": [
    {
     "name": "stdout",
     "output_type": "stream",
     "text": [
      "a01\n",
      "a02\n",
      "a03\n",
      "a04\n",
      "a05\n",
      "a06\n",
      "a07\n",
      "a08\n",
      "a09\n",
      "a10\n",
      "a11\n",
      "a12\n",
      "a13\n",
      "a14\n",
      "a15\n",
      "a16\n",
      "a17\n",
      "a18\n",
      "a19\n",
      "a20\n",
      "b01\n",
      "b02\n",
      "b03\n",
      "b04\n",
      "b05\n",
      "c01\n",
      "c02\n",
      "c03\n",
      "c04\n",
      "c05\n",
      "c06\n",
      "c07\n",
      "c08\n",
      "c09\n",
      "c10\n",
      "x01\n",
      "x02\n",
      "x03\n",
      "x04\n",
      "x05\n",
      "x06\n",
      "x07\n",
      "x08\n",
      "x09\n",
      "x10\n",
      "x11\n",
      "x12\n",
      "x13\n",
      "x14\n",
      "x15\n",
      "x16\n",
      "x17\n",
      "x18\n",
      "x19\n",
      "x20\n",
      "x21\n",
      "x22\n",
      "x23\n",
      "x24\n",
      "x25\n",
      "x26\n",
      "x27\n",
      "x28\n",
      "x29\n",
      "x30\n",
      "x31\n",
      "x32\n",
      "x33\n",
      "x34\n",
      "x35\n"
     ]
    }
   ],
   "source": [
    "file_full = [f'a{i:02d}' for i in range(1, 21)] + \\\n",
    "    [f'b{i:02d}' for i in range(1, 6)] + \\\n",
    "    [f'c{i:02d}' for i in range(1, 11)] + \\\n",
    "    [f'x{i:02d}' for i in range(1, 36)]\n",
    "\n",
    "for file in file_full:\n",
    "    print(file)\n",
    "    with open('data/processed/' + file + '.pkl', 'rb') as f:\n",
    "        data = pickle.load(f)\n",
    "    \n",
    "    t_hr, hr = [], []\n",
    "    for minute in range(len(data['apn'])):\n",
    "        t_hr_, hr_ = feature.get_heart_rate(data['ecg'][minute])\n",
    "        t_hr_ =t_hr_ / 60 + minute # Unit in minutes\n",
    "        t_hr.append(t_hr_)\n",
    "        hr.append(hr_)    \n",
    "        \n",
    "    hr = np.hstack(hr)\n",
    "    t_hr = np.hstack(t_hr)\n",
    "    res = {'hr': hr, 't': t_hr}\n",
    "    with open('features/HR_' + file + '.pkl', 'wb') as f:\n",
    "        pickle.dump(res, f)"
   ]
  }
 ],
 "metadata": {
  "kernelspec": {
   "display_name": "Python 3",
   "language": "python",
   "name": "python3"
  },
  "language_info": {
   "codemirror_mode": {
    "name": "ipython",
    "version": 3
   },
   "file_extension": ".py",
   "mimetype": "text/x-python",
   "name": "python",
   "nbconvert_exporter": "python",
   "pygments_lexer": "ipython3",
   "version": "3.7.4"
  },
  "toc": {
   "base_numbering": 1,
   "nav_menu": {},
   "number_sections": false,
   "sideBar": true,
   "skip_h1_title": false,
   "title_cell": "Table of Contents",
   "title_sidebar": "Contents",
   "toc_cell": false,
   "toc_position": {},
   "toc_section_display": true,
   "toc_window_display": false
  },
  "varInspector": {
   "cols": {
    "lenName": 16,
    "lenType": 16,
    "lenVar": 40
   },
   "kernels_config": {
    "python": {
     "delete_cmd_postfix": "",
     "delete_cmd_prefix": "del ",
     "library": "var_list.py",
     "varRefreshCmd": "print(var_dic_list())"
    },
    "r": {
     "delete_cmd_postfix": ") ",
     "delete_cmd_prefix": "rm(",
     "library": "var_list.r",
     "varRefreshCmd": "cat(var_dic_list()) "
    }
   },
   "types_to_exclude": [
    "module",
    "function",
    "builtin_function_or_method",
    "instance",
    "_Feature"
   ],
   "window_display": false
  }
 },
 "nbformat": 4,
 "nbformat_minor": 2
}
